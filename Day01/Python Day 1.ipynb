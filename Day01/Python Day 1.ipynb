{
 "cells": [
  {
   "cell_type": "code",
   "execution_count": 1,
   "id": "39c6940f",
   "metadata": {},
   "outputs": [
    {
     "name": "stdout",
     "output_type": "stream",
     "text": [
      "Hello World!\n"
     ]
    }
   ],
   "source": [
    "print(\"Hello World!\")"
   ]
  },
  {
   "cell_type": "code",
   "execution_count": 2,
   "id": "63de9f5e",
   "metadata": {},
   "outputs": [],
   "source": [
    "# Python IF-Else Practice Problems"
   ]
  },
  {
   "cell_type": "code",
   "execution_count": 3,
   "id": "efc31fea",
   "metadata": {},
   "outputs": [
    {
     "name": "stdout",
     "output_type": "stream",
     "text": [
      "enter your age: 21\n",
      "you are eligible for voting.\n"
     ]
    }
   ],
   "source": [
    "# Write a Program to check whether a person is eligible for voting or not.(accept age from the user)\n",
    "\n",
    "age = int(input('enter your age: '))\n",
    "\n",
    "if age>=18:\n",
    "    print(\"you are eligible for voting.\")\n",
    "else:\n",
    "    print('you are not eligible for voting.')"
   ]
  },
  {
   "cell_type": "code",
   "execution_count": 4,
   "id": "e8f52a13",
   "metadata": {},
   "outputs": [
    {
     "name": "stdout",
     "output_type": "stream",
     "text": [
      "enter number: 68\n",
      "its an even number\n"
     ]
    }
   ],
   "source": [
    "# Write a program to check whether a number entered by user is even or odd.\n",
    "\n",
    "num = int(input('enter number: '))\n",
    "\n",
    "if num % 2 == 0:\n",
    "    print(\"its an even number\")\n",
    "else:\n",
    "    print(\"its an odd number\")"
   ]
  },
  {
   "cell_type": "code",
   "execution_count": 5,
   "id": "fa2477e8",
   "metadata": {},
   "outputs": [
    {
     "name": "stdout",
     "output_type": "stream",
     "text": [
      "enter number: 63\n",
      "Yes, it is divisible by 7.\n"
     ]
    }
   ],
   "source": [
    "# Write a program to check whether a number is divisible by 7 or not.\n",
    "\n",
    "num = int(input('enter number: '))\n",
    "\n",
    "if num % 7 == 0:\n",
    "    print(\"Yes, it is divisible by 7.\")\n",
    "else:\n",
    "    print(\"No, It is not divisible by 7\")"
   ]
  },
  {
   "cell_type": "code",
   "execution_count": 6,
   "id": "2e4f9482",
   "metadata": {},
   "outputs": [
    {
     "name": "stdout",
     "output_type": "stream",
     "text": [
      "enter number: 45\n",
      "Hello\n"
     ]
    }
   ],
   "source": [
    "# Write a program to display \"Hello\" if a number entered by user is a multiple of five, otherwise print \"Bye\".\n",
    "\n",
    "num = int(input('enter number: '))\n",
    "\n",
    "if num % 5 == 0:\n",
    "    print(\"Hello\")\n",
    "else:\n",
    "    print(\"Bye\")"
   ]
  },
  {
   "cell_type": "code",
   "execution_count": 7,
   "id": "7076415a",
   "metadata": {},
   "outputs": [
    {
     "name": "stdout",
     "output_type": "stream",
     "text": [
      "enter the units: 325\n",
      "your bill is 1750\n"
     ]
    }
   ],
   "source": [
    "# Write a program to calculate the electricity bill (accept number of unit from user) according to the following criteria :\n",
    "# Unit                            Price\n",
    "# First 100 units               no charge\n",
    "# Next 100 units               Rs 5 per unit\n",
    "# After 200 units              Rs 10 per unit\n",
    "# (For example if input unit is 350 than total bill amount is Rs2000)\n",
    "\n",
    "unit = int(input('enter the units: '))\n",
    "bill = 0\n",
    "\n",
    "if unit<0:\n",
    "    print('enter correct unit')\n",
    "elif unit <=100:\n",
    "    bill = 0\n",
    "    print(f\"your bill is {bill}\")\n",
    "elif unit > 100 and unit<=200:\n",
    "    bill = (unit - 100) * 5\n",
    "    print(f\"your bill is {bill}\")\n",
    "elif unit>200:\n",
    "    bill = 500+(unit-200)*10\n",
    "    print(f\"your bill is {bill}\")"
   ]
  },
  {
   "cell_type": "code",
   "execution_count": 8,
   "id": "6867f65b",
   "metadata": {},
   "outputs": [
    {
     "name": "stdout",
     "output_type": "stream",
     "text": [
      "enter number: 38\n",
      "8\n"
     ]
    }
   ],
   "source": [
    "# Write a program to display the last digit of a number.\n",
    "\n",
    "num = int(input('enter number: '))\n",
    "\n",
    "last_digit = num%10\n",
    "print(last_digit)\n"
   ]
  },
  {
   "cell_type": "code",
   "execution_count": 9,
   "id": "b8607e0e",
   "metadata": {},
   "outputs": [
    {
     "name": "stdout",
     "output_type": "stream",
     "text": [
      "enter number: 46\n",
      "Yes, its last digit is divisible by 3\n"
     ]
    }
   ],
   "source": [
    "# Write a program to check whether the last digit of a number ( entered by user ) is divisible by 3 or not.\n",
    "\n",
    "num = int(input('enter number: '))\n",
    "\n",
    "last_digit = num%10\n",
    "\n",
    "if last_digit%3 == 0:\n",
    "    print('Yes, its last digit is divisible by 3')\n",
    "else:\n",
    "    print('No')"
   ]
  },
  {
   "cell_type": "code",
   "execution_count": 10,
   "id": "a0a14ca9",
   "metadata": {},
   "outputs": [
    {
     "name": "stdout",
     "output_type": "stream",
     "text": [
      "enter your marks: 86\n",
      "B\n"
     ]
    }
   ],
   "source": [
    "# Write a program to accept percentage from the user and display the grade according to the criteria:\n",
    "\n",
    "marks = int(input('enter your marks: '))\n",
    "\n",
    "if marks<0:\n",
    "    print('enter correct marks')\n",
    "elif marks>100:\n",
    "    print('enter correct marks')\n",
    "elif marks>90 and marks <= 100:\n",
    "    print('A')\n",
    "elif marks >80 and marks<=90:\n",
    "    print('B')\n",
    "elif marks >=60 and marks<=80:\n",
    "    print('C')\n",
    "elif marks <60:\n",
    "    print(\"D\")"
   ]
  },
  {
   "cell_type": "code",
   "execution_count": 11,
   "id": "41c6126d",
   "metadata": {},
   "outputs": [
    {
     "name": "stdout",
     "output_type": "stream",
     "text": [
      "the cost of bike is: Rs410000\n",
      "tax to be paid on bike with cost Rs410000 is Rs61500.\n"
     ]
    }
   ],
   "source": [
    "# Write a program to accept the cost price of a bike and display the road tax to be paid according to the criteria:\n",
    "\n",
    "cost_of_bike = int(input('the cost of bike is: Rs'))\n",
    "\n",
    "tax = 0\n",
    "\n",
    "if cost_of_bike > 100000:\n",
    "    tax = (15/100)*cost_of_bike\n",
    "elif cost_of_bike > 50000 and cost_of_bike <= 100000:\n",
    "    tax = (10/100)*cost_of_bike\n",
    "elif cost_of_bike <=50000:\n",
    "    tax = (5/100)* cost_of_bike\n",
    "    \n",
    "print(f'tax to be paid on bike with cost Rs{cost_of_bike} is Rs{round(tax)}.')"
   ]
  },
  {
   "cell_type": "code",
   "execution_count": 12,
   "id": "8fe6bc9f",
   "metadata": {},
   "outputs": [
    {
     "name": "stdout",
     "output_type": "stream",
     "text": [
      "Check whether Year is Leap or not\n",
      "enter year: 1992\n",
      "Leap Year\n"
     ]
    }
   ],
   "source": [
    "# Write a program to check whether an years is leap year or not.\n",
    "\n",
    "print(\"Check whether Year is Leap or not\")\n",
    "\n",
    "year = int(input('enter year: '))\n",
    "\n",
    "if year % 4 == 0:\n",
    "    if year % 100 == 0:\n",
    "        if year % 400 == 0:\n",
    "            print('Leap year')\n",
    "        else:\n",
    "            print('Not Leap')\n",
    "    else:\n",
    "        print('Leap Year')\n",
    "else:\n",
    "    print('Not Leap')"
   ]
  },
  {
   "cell_type": "code",
   "execution_count": 13,
   "id": "e19a0a18",
   "metadata": {},
   "outputs": [
    {
     "name": "stdout",
     "output_type": "stream",
     "text": [
      "enter number: 345\n",
      "yes\n"
     ]
    }
   ],
   "source": [
    "# Write a program to check whether a number is 3 digit or not\n",
    "n = input('enter number: ')\n",
    "l = len(n)\n",
    "if l == 3:\n",
    "    print('yes')\n",
    "else:\n",
    "    print('no')"
   ]
  },
  {
   "cell_type": "code",
   "execution_count": 14,
   "id": "5c04a953",
   "metadata": {},
   "outputs": [
    {
     "name": "stdout",
     "output_type": "stream",
     "text": [
      "enter number: 123\n",
      "Its 3 digit\n"
     ]
    }
   ],
   "source": [
    "# Sol 2 \n",
    "n = int(input('enter number: '))\n",
    "\n",
    "if n > 99 and n<1000:\n",
    "    print('Its 3 digit')\n",
    "else:\n",
    "    print('No')"
   ]
  },
  {
   "cell_type": "code",
   "execution_count": 15,
   "id": "32a4dc10",
   "metadata": {},
   "outputs": [
    {
     "name": "stdout",
     "output_type": "stream",
     "text": [
      "enter number 1: 12\n",
      "enter number 2: 32\n",
      "smaller is 12\n"
     ]
    }
   ],
   "source": [
    "# Check lowest out of the two numbers\n",
    "n1 = int(input('enter number 1: '))\n",
    "n2 = int(input('enter number 2: '))\n",
    "\n",
    "if n1>n2:\n",
    "    print('smaller is',n2)\n",
    "else:\n",
    "    print('smaller is',n1)"
   ]
  },
  {
   "cell_type": "code",
   "execution_count": 16,
   "id": "68e0ad8e",
   "metadata": {},
   "outputs": [
    {
     "name": "stdout",
     "output_type": "stream",
     "text": [
      "enter number: 24\n",
      "Yes\n"
     ]
    }
   ],
   "source": [
    "n = int(input('enter number: '))\n",
    "\n",
    "if n % 2 == 0 and n % 3 == 0:\n",
    "    print('Yes')\n",
    "else:\n",
    "    print('No')"
   ]
  },
  {
   "cell_type": "code",
   "execution_count": 17,
   "id": "697aed02",
   "metadata": {},
   "outputs": [
    {
     "name": "stdout",
     "output_type": "stream",
     "text": [
      "enter number 1: 12\n",
      "enter number 2: 13\n",
      "enter number 3: 14\n",
      "14 is the greatest.\n"
     ]
    }
   ],
   "source": [
    "n1 = int(input('enter number 1: '))\n",
    "n2 = int(input('enter number 2: '))\n",
    "n3 = int(input('enter number 3: '))\n",
    "\n",
    "if n1>n2 and n1>n3:\n",
    "    print(f'{n1} is the greatest.')\n",
    "elif n2>n1 and n2>n3:\n",
    "    print(f'{n2} is the greatest.')\n",
    "elif n3> n2 and n3>n1:\n",
    "    print(f'{n3} is the greatest.')"
   ]
  },
  {
   "cell_type": "code",
   "execution_count": 18,
   "id": "24204db1",
   "metadata": {},
   "outputs": [
    {
     "name": "stdout",
     "output_type": "stream",
     "text": [
      "enter age 1: 12\n",
      "enter age 2: 32\n",
      "enter age 3: 21\n",
      "enter age 4: 11\n",
      "32 is oldest\n"
     ]
    }
   ],
   "source": [
    "a1 = int(input('enter age 1: '))\n",
    "a2 = int(input('enter age 2: '))\n",
    "a3 = int(input('enter age 3: '))\n",
    "a4 = int(input('enter age 4: '))\n",
    "\n",
    "if a1>a2 and a1>a3 and a1>a4:\n",
    "    print(a1,'is oldest')\n",
    "elif a2>a1 and a2>a3 and a2>a4:\n",
    "    print(a2,'is oldest')\n",
    "elif a3>a2 and a3>a1 and a3>a4:\n",
    "    print(a3,'is oldest')\n",
    "elif a4>a2 and a4>a3 and a4>a1:\n",
    "    print(a4,'is oldest')"
   ]
  },
  {
   "cell_type": "code",
   "execution_count": 19,
   "id": "bacfe3ed",
   "metadata": {},
   "outputs": [
    {
     "name": "stdout",
     "output_type": "stream",
     "text": [
      "enter number: 37\n",
      "prime\n"
     ]
    }
   ],
   "source": [
    "# Check a number is prime or not\n",
    "n = int(input('enter number: '))\n",
    "k = 0\n",
    "for i in range(2,n):\n",
    "    if n%i ==0:\n",
    "        k+=1\n",
    "if k == 0:\n",
    "    print('prime')\n",
    "else:\n",
    "    print('not prime')"
   ]
  },
  {
   "cell_type": "code",
   "execution_count": 20,
   "id": "8961b89e",
   "metadata": {},
   "outputs": [
    {
     "name": "stdout",
     "output_type": "stream",
     "text": [
      "enter total number of calss: 76\n",
      "enter number of class attended: 59\n",
      "your attendance is 78%\n",
      "eligible for exam\n"
     ]
    }
   ],
   "source": [
    "t_class = int(input('enter total number of calss: '))\n",
    "a_class = int(input('enter number of class attended: '))\n",
    "\n",
    "c_per = (a_class/t_class)*100\n",
    "print(f'your attendance is {round(c_per)}%')\n",
    "\n",
    "if c_per >= 75:\n",
    "    print('eligible for exam')\n",
    "else:\n",
    "    print('not eligble for exam')"
   ]
  },
  {
   "cell_type": "code",
   "execution_count": 21,
   "id": "28b739b6",
   "metadata": {},
   "outputs": [
    {
     "name": "stdout",
     "output_type": "stream",
     "text": [
      "enter salary: 50000\n",
      "enter number of years working: 1\n",
      "2500\n"
     ]
    }
   ],
   "source": [
    "# Calculate bonus according to salary and years of employees\n",
    "sal = int(input('enter salary: '))\n",
    "year = int(input('enter number of years working: '))\n",
    "\n",
    "if year > 10:\n",
    "    bon = (10/100)*sal\n",
    "elif year >=6 and year <=10:\n",
    "    bon = (8/100)*sal\n",
    "elif year<6:\n",
    "    bon = (5/100)*sal\n",
    "print(round(bon))"
   ]
  },
  {
   "cell_type": "code",
   "execution_count": 22,
   "id": "7a8293cf",
   "metadata": {},
   "outputs": [
    {
     "name": "stdout",
     "output_type": "stream",
     "text": [
      "enter the price of item12450\n",
      "9960.0\n"
     ]
    }
   ],
   "source": [
    "# Calculate the discount\n",
    "\n",
    "price = int(input('enter the price of item'))\n",
    "d = 0\n",
    "\n",
    "if price > 10000:\n",
    "    d = (20/100)*price\n",
    "elif price>7000 and price <= 10000:\n",
    "    d = (15/100)*price\n",
    "elif price<=7000:\n",
    "    d = (10/100)*price\n",
    "\n",
    "amount_to_pay = price - d\n",
    "print(amount_to_pay)"
   ]
  },
  {
   "cell_type": "code",
   "execution_count": 23,
   "id": "5a517095",
   "metadata": {},
   "outputs": [
    {
     "name": "stdout",
     "output_type": "stream",
     "text": [
      "enter side of the triangle: 3\n",
      "enter side of the triangle: 6\n",
      "enter side of the triangle: 2\n",
      "scalene triangle\n"
     ]
    }
   ],
   "source": [
    "s1 = int(input('enter side of the triangle: '))\n",
    "s2 = int(input('enter side of the triangle: '))\n",
    "s3 = int(input('enter side of the triangle: '))\n",
    "\n",
    "if s1 == s2 and s1 == s3:\n",
    "    print('equilateral triangle')\n",
    "elif (s1 != s2) and (s2!= s3) and (s1!= s3):\n",
    "    print('scalene triangle')\n",
    "elif (s1==s2 or s1!= s3) or (s1==s3 and s1!= s2) or (s2 == s3 and s2!=s1):\n",
    "    print('isoscales triangle')"
   ]
  },
  {
   "cell_type": "code",
   "execution_count": 24,
   "id": "0d712ca4",
   "metadata": {},
   "outputs": [
    {
     "name": "stdout",
     "output_type": "stream",
     "text": [
      "enter number 1: 9\n",
      "enter number 2: 5\n",
      "enter math operator -\n",
      "4\n"
     ]
    }
   ],
   "source": [
    "n1 = int(input('enter number 1: '))\n",
    "n2 = int(input('enter number 2: '))\n",
    "\n",
    "o = input('enter math operator ')\n",
    "\n",
    "if o =='+':\n",
    "    cal = n1+n2\n",
    "elif o == '-':\n",
    "    cal = n1-n2\n",
    "elif o == '*':\n",
    "    cal = n1*n2\n",
    "elif o == '/':\n",
    "    cal = n1/n2\n",
    "print(round(cal))"
   ]
  },
  {
   "cell_type": "code",
   "execution_count": 25,
   "id": "5e53a9aa",
   "metadata": {},
   "outputs": [
    {
     "name": "stdout",
     "output_type": "stream",
     "text": [
      "enter your gender:M or F: m\n",
      "enter your age: 22\n",
      "enter no. of days worked: 20\n",
      "14000\n"
     ]
    }
   ],
   "source": [
    "# Display the wages according to gender and age \n",
    "\n",
    "g = input('enter your gender:M or F: ')\n",
    "a = int(input('enter your age: '))\n",
    "d = int(input('enter no. of days worked: '))\n",
    "\n",
    "if (a >=18 and a<30) and g.upper() == 'M':\n",
    "    wage = 700*d\n",
    "elif (a >=18 and a<30) and g.upper() == 'F':\n",
    "    wage = 750*d\n",
    "elif (a >=30 and a<=40) and g.upper() == 'M':\n",
    "    wage = 800*d\n",
    "elif (a >=18 and a<30) and g.upper() == 'F':\n",
    "    wage = 850*d\n",
    "    \n",
    "print(wage)"
   ]
  },
  {
   "cell_type": "code",
   "execution_count": 2,
   "id": "3151d91e",
   "metadata": {},
   "outputs": [
    {
     "name": "stdout",
     "output_type": "stream",
     "text": [
      "enter number 1: 23\n",
      "enter number 2: 13\n",
      "enter number 3: 42\n",
      "23 is the second.\n"
     ]
    }
   ],
   "source": [
    "# Display second largest\n",
    "\n",
    "n1 = int(input('enter number 1: '))\n",
    "n2 = int(input('enter number 2: '))\n",
    "n3 = int(input('enter number 3: '))\n",
    "\n",
    "if (n1>n2 and n2>n3) or (n2>n1 and n3>n2):\n",
    "    print(f'{n2} is the second.')\n",
    "elif (n2>n1 and n1>n3) or (n3>n1 and n1>n2):\n",
    "    print(f'{n1} is the second.')\n",
    "elif (n1> n3 and n3>n2) or (n2>n3 and n3>n1):\n",
    "    print(f'{n3} is the second.')"
   ]
  },
  {
   "cell_type": "code",
   "execution_count": 3,
   "id": "64e8d758",
   "metadata": {},
   "outputs": [
    {
     "name": "stdout",
     "output_type": "stream",
     "text": [
      "enter side of the triangle: 12\n",
      "enter side of the triangle: 14\n",
      "enter side of the triangle: 11\n",
      "triangle is possible\n"
     ]
    }
   ],
   "source": [
    "s1 = int(input('enter side of the triangle: '))\n",
    "s2 = int(input('enter side of the triangle: '))\n",
    "s3 = int(input('enter side of the triangle: '))\n",
    "\n",
    "if s1+s2 >s3 and s2+s3>s1 and s1+s3>s2:\n",
    "    print('triangle is possible')\n",
    "else:\n",
    "    print('not possible')"
   ]
  },
  {
   "cell_type": "code",
   "execution_count": 4,
   "id": "e92b801c",
   "metadata": {},
   "outputs": [
    {
     "name": "stdout",
     "output_type": "stream",
     "text": [
      "enter the kilometers: 145\n",
      "1415\n"
     ]
    }
   ],
   "source": [
    "km = int(input('enter the kilometers: '))\n",
    "bill = 0\n",
    "\n",
    "if km<=10:\n",
    "    bill = km*11\n",
    "elif km > 10 and km<=100:\n",
    "    bill = 110 +(km-10)*10\n",
    "elif km>100:\n",
    "    bill = 1010 +(km-100)*9\n",
    "print(bill)"
   ]
  },
  {
   "cell_type": "code",
   "execution_count": 5,
   "id": "35467488",
   "metadata": {},
   "outputs": [
    {
     "name": "stdout",
     "output_type": "stream",
     "text": [
      "enter height in metre: 1.83\n",
      "enter weight in kg: 85\n",
      "Your BMI is 25.38, you are slightly overweight\n"
     ]
    }
   ],
   "source": [
    "# Write a program that interprets the Body Mass Index (BMI) based on a user's weight and height.\n",
    "\n",
    "h = float(input('enter height in metre: '))\n",
    "w = float(input('enter weight in kg: '))\n",
    "\n",
    "bmi = round(w/(h**2),2)\n",
    "\n",
    "if bmi<18.5:\n",
    "    print(f\"Your BMI is {bmi}, you are underweight.\")\n",
    "elif bmi>=18.5 and bmi<25:\n",
    "    print(f\"Your BMI is {bmi}, you have a normal weight.\")\n",
    "elif bmi>=25 and bmi<30:\n",
    "    print(f\"Your BMI is {bmi}, you are slightly overweight\")\n",
    "elif bmi>= 30 and bmi<35:\n",
    "    print(f\"Your BMI is {bmi}, you are obese.\")\n",
    "elif bmi>=35:\n",
    "    print(f\"Your BMI is {bmi}, you are clinically obese.\")"
   ]
  },
  {
   "cell_type": "code",
   "execution_count": 6,
   "id": "d8830f7a",
   "metadata": {},
   "outputs": [
    {
     "name": "stdout",
     "output_type": "stream",
     "text": [
      "enter pizza size: S,M or L l\n",
      "these are the price without any add on: $25\n",
      "do you want to add pepperoni? Y or N: n\n",
      "do you want to add cheese? Y or N: y\n",
      "Your final bill is: $26\n"
     ]
    }
   ],
   "source": [
    "# Congratulations, you've got a job at Python Pizza! Your first job is to build an automatic pizza order program.\n",
    "# Based on a user's order, work out their final bill.\n",
    "# Small pizza (S): $15\n",
    "# Medium pizza (M): $20\n",
    "# Large pizza (L): $25\n",
    "# Add pepperoni for small pizza (Y or N): +$2\n",
    "# Add pepperoni for medium or large pizza (Y or N): +$3\n",
    "# Add extra cheese for any size pizza (Y or N): +$1\n",
    "\n",
    "size = input('enter pizza size: S,M or L ')\n",
    "price = 0\n",
    "\n",
    "if size.upper() == 'S':\n",
    "    price = 15\n",
    "elif size.upper() == 'M':\n",
    "    price = 20\n",
    "elif size.upper() == 'L':\n",
    "    price = 25\n",
    "    \n",
    "print(f'these are the price without any add on: ${price}')\n",
    "\n",
    "pep = input('do you want to add pepperoni? Y or N: ')\n",
    "\n",
    "if pep.upper() == 'Y' and size.upper() == 'S':\n",
    "    price += 2\n",
    "elif (pep.upper() == 'Y' and size.upper() == 'M') or (pep.upper() == 'Y' and size.upper() == 'L'):\n",
    "    price += 3\n",
    "    \n",
    "cheese = input('do you want to add cheese? Y or N: ')\n",
    "\n",
    "if cheese.upper() == 'Y':\n",
    "    price+=1\n",
    "\n",
    "print(f'Your final bill is: ${price}')\n"
   ]
  },
  {
   "cell_type": "code",
   "execution_count": 7,
   "id": "a8d0ab31",
   "metadata": {},
   "outputs": [
    {
     "name": "stdout",
     "output_type": "stream",
     "text": [
      "Welcome to the Roller Coaster\n",
      "enter your height in cm: 183\n",
      "You can ride.\n",
      "enter your age: 22\n",
      "do you want photos? Y or N: y\n",
      "Your Total bill is : $15\n"
     ]
    }
   ],
   "source": [
    "# Roller Coaster Ride Ticket Prices Calculations\n",
    "\n",
    "print(\"Welcome to the Roller Coaster\")\n",
    "\n",
    "height = int(input('enter your height in cm: '))\n",
    "price = 0\n",
    "\n",
    "if height > 120:\n",
    "    print('You can ride.')\n",
    "    age = int(input('enter your age: '))\n",
    "    if age<12:\n",
    "        price +=5\n",
    "    elif age >=12 and age <= 18:\n",
    "        price+=7\n",
    "    elif age >= 45 and age <=55:\n",
    "        price += 0\n",
    "        print('Enjoy have a free ride on us')\n",
    "    elif age>18:\n",
    "        price+= 12 \n",
    "        \n",
    "    photos = input('do you want photos? Y or N: ')\n",
    "    if photos.upper() == 'Y':\n",
    "        price+= 3\n",
    "    print(f'Your Total bill is : ${price}')\n",
    "else:\n",
    "    print('You are not eligible to ride.')\n",
    "\n",
    "\n"
   ]
  },
  {
   "cell_type": "code",
   "execution_count": 8,
   "id": "66c989e3",
   "metadata": {},
   "outputs": [
    {
     "name": "stdout",
     "output_type": "stream",
     "text": [
      "24\n",
      "Not Weird\n"
     ]
    }
   ],
   "source": [
    "# Given an integer, , perform the following conditional actions:\n",
    "# If  is odd, print Weird\n",
    "# If  is even and in the inclusive range of  to , print Not Weird\n",
    "# If  is even and in the inclusive range of  to , print Weird\n",
    "# If  is even and greater than , print Not Weird\n",
    "\n",
    "n = int(input())\n",
    "if n%2 == 0:\n",
    "    if n>=2 and n<=5:\n",
    "        print('Not Weird')\n",
    "    elif n>=6 and n<=20:\n",
    "        print('Weird')\n",
    "    elif n>20:\n",
    "        print('Not Weird')\n",
    "else:\n",
    "    print('Weird')"
   ]
  },
  {
   "cell_type": "code",
   "execution_count": null,
   "id": "9d1714bd",
   "metadata": {},
   "outputs": [],
   "source": []
  }
 ],
 "metadata": {
  "kernelspec": {
   "display_name": "Python 3 (ipykernel)",
   "language": "python",
   "name": "python3"
  },
  "language_info": {
   "codemirror_mode": {
    "name": "ipython",
    "version": 3
   },
   "file_extension": ".py",
   "mimetype": "text/x-python",
   "name": "python",
   "nbconvert_exporter": "python",
   "pygments_lexer": "ipython3",
   "version": "3.9.12"
  }
 },
 "nbformat": 4,
 "nbformat_minor": 5
}
