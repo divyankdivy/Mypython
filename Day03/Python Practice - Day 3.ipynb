{
 "cells": [
  {
   "cell_type": "markdown",
   "id": "6f5dab5e",
   "metadata": {},
   "source": [
    "# Day 3"
   ]
  },
  {
   "cell_type": "markdown",
   "id": "c9e535a6",
   "metadata": {},
   "source": [
    "## While Loop"
   ]
  },
  {
   "cell_type": "code",
   "execution_count": 1,
   "id": "9b6eca2a",
   "metadata": {},
   "outputs": [
    {
     "name": "stdout",
     "output_type": "stream",
     "text": [
      "2, 4, 6, 8, 10, 12, 14, 16, 18, 20, "
     ]
    }
   ],
   "source": [
    "# First 10 even numbers:\n",
    "\n",
    "num = 1\n",
    "\n",
    "while num<=20:\n",
    "    if num%2==0:\n",
    "        print(num,end = ', ')\n",
    "    num = num+1"
   ]
  },
  {
   "cell_type": "code",
   "execution_count": 2,
   "id": "35884987",
   "metadata": {},
   "outputs": [
    {
     "name": "stdout",
     "output_type": "stream",
     "text": [
      "1, 3, 5, 7, 9, 11, 13, 15, 17, 19, "
     ]
    }
   ],
   "source": [
    "# First 10 odd numbers:\n",
    "\n",
    "num = 1\n",
    "\n",
    "while num<=20:\n",
    "    if num%2!=0:\n",
    "        print(num,end = ', ')\n",
    "    num+=1"
   ]
  },
  {
   "cell_type": "code",
   "execution_count": 3,
   "id": "73ff0b00",
   "metadata": {},
   "outputs": [
    {
     "name": "stdout",
     "output_type": "stream",
     "text": [
      "1, 2, 3, 4, 5, 6, 7, 8, 9, 10, "
     ]
    }
   ],
   "source": [
    "# First 10 natural numbers:\n",
    "num = 1\n",
    "while num<=10:\n",
    "    print(num, end = ', ')\n",
    "    num+=1"
   ]
  },
  {
   "cell_type": "code",
   "execution_count": 4,
   "id": "ddb88b1a",
   "metadata": {},
   "outputs": [
    {
     "name": "stdout",
     "output_type": "stream",
     "text": [
      "0, 1, 2, 3, 4, 5, 6, 7, 8, 9, "
     ]
    }
   ],
   "source": [
    "# First 10 whole numbers:\n",
    "num = 0\n",
    "while num<10:\n",
    "    print(num,end = ', ')\n",
    "    num+=1"
   ]
  },
  {
   "cell_type": "code",
   "execution_count": 5,
   "id": "a88d6246",
   "metadata": {},
   "outputs": [
    {
     "name": "stdout",
     "output_type": "stream",
     "text": [
      "1 : 1\n",
      "2 : 4\n",
      "3 : 9\n",
      "4 : 16\n",
      "5 : 25\n",
      "6 : 36\n",
      "7 : 49\n",
      "8 : 64\n",
      "9 : 81\n",
      "10 : 100\n"
     ]
    }
   ],
   "source": [
    "# Write the program to print first 10 integers and their squares:\n",
    "\n",
    "num = 1\n",
    "while num<=10:\n",
    "    print(num,':',num**2)\n",
    "    num+=1"
   ]
  },
  {
   "cell_type": "code",
   "execution_count": 6,
   "id": "e84018da",
   "metadata": {},
   "outputs": [
    {
     "name": "stdout",
     "output_type": "stream",
     "text": [
      "10, 20, 30, 40, 50, 60, 70, 80, 90, 100, 110, 120, 130, 140, 150, 160, 170, 180, 190, 200, 210, 220, 230, 240, 250, 260, 270, 280, 290, 300, "
     ]
    }
   ],
   "source": [
    "# Write the loop to print the following series: 10,20,30 ...300\n",
    "\n",
    "num = 10\n",
    "while num<=300:\n",
    "    print(num, end = ', ')\n",
    "    num+=10"
   ]
  },
  {
   "cell_type": "code",
   "execution_count": 7,
   "id": "ce927153",
   "metadata": {},
   "outputs": [
    {
     "name": "stdout",
     "output_type": "stream",
     "text": [
      "105, 98, 91, 84, 77, 70, 63, 56, 49, 42, 35, 28, 21, 14, 7, "
     ]
    }
   ],
   "source": [
    "# Write the loop to print the following series: 105,98,91,...7\n",
    "num = 105\n",
    "while num >0:\n",
    "    print(num,end =', ')\n",
    "    num-=7"
   ]
  },
  {
   "cell_type": "code",
   "execution_count": 8,
   "id": "07ab01df",
   "metadata": {},
   "outputs": [
    {
     "name": "stdout",
     "output_type": "stream",
     "text": [
      "10, 9, 8, 7, 6, 5, 4, 3, 2, 1, "
     ]
    }
   ],
   "source": [
    "# First 10 natural numbers in reversed order:\n",
    "num = 10\n",
    "while num>0:\n",
    "    print(num,end = ', ')\n",
    "    num-=1"
   ]
  },
  {
   "cell_type": "code",
   "execution_count": 9,
   "id": "9c0a2040",
   "metadata": {},
   "outputs": [
    {
     "name": "stdout",
     "output_type": "stream",
     "text": [
      "55\n"
     ]
    }
   ],
   "source": [
    "# Sum of first 10 natural number:\n",
    "\n",
    "num = 1\n",
    "summ = 0\n",
    "while num<=10:\n",
    "    summ+=num\n",
    "    num+=1\n",
    "print(summ)"
   ]
  },
  {
   "cell_type": "code",
   "execution_count": 10,
   "id": "18a72b38",
   "metadata": {},
   "outputs": [
    {
     "name": "stdout",
     "output_type": "stream",
     "text": [
      "110\n"
     ]
    }
   ],
   "source": [
    "# Sum of first 10 even numbers:\n",
    "num = 1\n",
    "summ = 0\n",
    "while num<=20:\n",
    "    if num%2==0:\n",
    "        summ+=num\n",
    "    num+=1\n",
    "print(summ)"
   ]
  },
  {
   "cell_type": "code",
   "execution_count": 11,
   "id": "92f44a67",
   "metadata": {},
   "outputs": [
    {
     "name": "stdout",
     "output_type": "stream",
     "text": [
      "enter number: 7\n",
      "7 * 1 = 7\n",
      "7 * 2 = 14\n",
      "7 * 3 = 21\n",
      "7 * 4 = 28\n",
      "7 * 5 = 35\n",
      "7 * 6 = 42\n",
      "7 * 7 = 49\n",
      "7 * 8 = 56\n",
      "7 * 9 = 63\n",
      "7 * 10 = 70\n"
     ]
    }
   ],
   "source": [
    "# Write a multiplication table of a number entered by a user:\n",
    "\n",
    "num = int(input('enter number: '))\n",
    "i = 1\n",
    "while i <=10:\n",
    "    print(f'{num} * {i} = {num*i}')\n",
    "    i+=1"
   ]
  },
  {
   "cell_type": "code",
   "execution_count": 12,
   "id": "a4c0cb77",
   "metadata": {},
   "outputs": [
    {
     "name": "stdout",
     "output_type": "stream",
     "text": [
      "enter number 1: 20\n",
      "enter number 2: 40\n",
      "22, 24, 26, 28, 30, 32, 34, 36, 38, "
     ]
    }
   ],
   "source": [
    "# Write even numbers that fall between two numbers exclusive of those two numbers:\n",
    "\n",
    "num1 = int(input('enter number 1: '))\n",
    "num2 = int(input('enter number 2: '))\n",
    "\n",
    "if num1>num2:\n",
    "    num2+=1\n",
    "    while num1>num2:\n",
    "        if num2%2==0:\n",
    "            print(num2,end = ', ')\n",
    "        num2+=1\n",
    "elif num2>num1:\n",
    "    num1+=1\n",
    "    while num2>num1:\n",
    "        if num1%2 == 0:\n",
    "            print(num1,end = ', ')\n",
    "        num1+=1"
   ]
  },
  {
   "cell_type": "code",
   "execution_count": 13,
   "id": "ec77c222",
   "metadata": {},
   "outputs": [
    {
     "name": "stdout",
     "output_type": "stream",
     "text": [
      "enter number 1: 20\n",
      "enter number 2: 40\n",
      "20, 22, 24, 26, 28, 30, 32, 34, 36, 38, 40, "
     ]
    }
   ],
   "source": [
    "# Write even numbers that fall between two numbers inclusive of those two numbers:\n",
    "num1 = int(input('enter number 1: '))\n",
    "num2 = int(input('enter number 2: '))\n",
    "\n",
    "if num1>num2:\n",
    "    while num1>=num2:\n",
    "        if num2%2==0:\n",
    "            print(num2,end = ', ')\n",
    "        num2+=1\n",
    "elif num2>num1:\n",
    "    while num2>=num1:\n",
    "        if num1%2 == 0:\n",
    "            print(num1,end = ', ')\n",
    "        num1+=1"
   ]
  },
  {
   "cell_type": "code",
   "execution_count": 14,
   "id": "6a894d6b",
   "metadata": {},
   "outputs": [
    {
     "name": "stdout",
     "output_type": "stream",
     "text": [
      "enter number: 97\n",
      "Its a prime number.\n"
     ]
    }
   ],
   "source": [
    "# Write a program to check whether the number is prime or not:\n",
    "\n",
    "num = int(input('enter number: '))\n",
    "i = 2\n",
    "count = 0\n",
    "\n",
    "while i<num:\n",
    "    if num%i == 0:\n",
    "        count+=1\n",
    "    i+=1\n",
    "if count==0:\n",
    "    print('Its a prime number.')\n",
    "else:\n",
    "    print('its not a primt number.')"
   ]
  },
  {
   "cell_type": "code",
   "execution_count": 15,
   "id": "f26fc3fa",
   "metadata": {},
   "outputs": [
    {
     "name": "stdout",
     "output_type": "stream",
     "text": [
      "452\n",
      "sum of digit of given number is: 11\n"
     ]
    }
   ],
   "source": [
    "# Write the sum of the digit of a number accepted from the user:\n",
    "\n",
    "num = int(input())\n",
    "d = 0\n",
    "summ = 0\n",
    "while num>0:\n",
    "    d = num%10\n",
    "    summ+=d\n",
    "    num = num//10\n",
    "print('sum of digit of given number is:',summ)"
   ]
  },
  {
   "cell_type": "code",
   "execution_count": 16,
   "id": "703f3d2a",
   "metadata": {},
   "outputs": [
    {
     "name": "stdout",
     "output_type": "stream",
     "text": [
      "enter number: 56\n",
      "product of digit of given number is 30\n"
     ]
    }
   ],
   "source": [
    "# Write the product of the digit of a number accepted from the user:\n",
    "\n",
    "num = int(input('enter number: '))\n",
    "digit = 0\n",
    "prod = 1\n",
    "while num>0:\n",
    "    digit = num%10\n",
    "    prod *=digit\n",
    "    num = num//10\n",
    "print('product of digit of given number is',prod)"
   ]
  },
  {
   "cell_type": "code",
   "execution_count": 17,
   "id": "65c66d74",
   "metadata": {},
   "outputs": [
    {
     "name": "stdout",
     "output_type": "stream",
     "text": [
      "enter number: 74924\n",
      "reversed number is 42947\n"
     ]
    }
   ],
   "source": [
    "# Write the program to reverse the number entered by user\n",
    "num = int(input('enter number: '))\n",
    "rev_num = 0\n",
    "digit = 0\n",
    "while num>0:\n",
    "    digit = num%10\n",
    "    rev_num = (rev_num*10)+digit\n",
    "    num = num //10\n",
    "print('reversed number is',rev_num)"
   ]
  },
  {
   "cell_type": "code",
   "execution_count": 18,
   "id": "ac6b9a1a",
   "metadata": {},
   "outputs": [
    {
     "name": "stdout",
     "output_type": "stream",
     "text": [
      "how many term do you want in fibonacci series: 10\n",
      "0\n",
      "1\n",
      "1\n",
      "2\n",
      "3\n",
      "5\n",
      "8\n",
      "13\n",
      "21\n",
      "34\n"
     ]
    }
   ],
   "source": [
    "# Write the fibonacci series using while loop:\n",
    "\n",
    "n = int(input('how many term do you want in fibonacci series: '))\n",
    "if n ==1:\n",
    "    print(0)\n",
    "elif n == 2:\n",
    "    print(0, 1)\n",
    "elif n<=0:\n",
    "    print('enter positive number')\n",
    "else:\n",
    "    f_num = 0\n",
    "    s_num = 1\n",
    "    print(f_num)\n",
    "    print(s_num)\n",
    "    i = 2\n",
    "    while i<n:\n",
    "        t_num = f_num+s_num\n",
    "        print(t_num)\n",
    "        f_num = s_num\n",
    "        s_num = t_num\n",
    "        i +=1"
   ]
  },
  {
   "cell_type": "code",
   "execution_count": 19,
   "id": "0fa588b3",
   "metadata": {},
   "outputs": [
    {
     "name": "stdout",
     "output_type": "stream",
     "text": [
      "enter number: 7\n",
      "5040\n"
     ]
    }
   ],
   "source": [
    "# Write the factorial number of a number accepted from the user\n",
    "\n",
    "num = int(input('enter number: '))\n",
    "facto = 1\n",
    "i =1\n",
    "while i <= num:\n",
    "    facto*= i\n",
    "    i+=1\n",
    "print(facto)"
   ]
  },
  {
   "cell_type": "code",
   "execution_count": 20,
   "id": "683a0640",
   "metadata": {},
   "outputs": [
    {
     "name": "stdout",
     "output_type": "stream",
     "text": [
      "enter number: 9474\n",
      "9474\n",
      "its armstrong\n"
     ]
    }
   ],
   "source": [
    "# Check armstrong number:\n",
    "\n",
    "n = input('enter number: ')\n",
    "n_len = len(n)\n",
    "num = int(n)\n",
    "n_check = int(n)\n",
    "print(n_check)\n",
    "digit = 0\n",
    "arm = 0\n",
    "while num>0:\n",
    "    digit = num%10\n",
    "    arm = arm+(digit**n_len)\n",
    "    num = num//10\n",
    "if n_check == arm:\n",
    "    print('its armstrong')\n",
    "else:\n",
    "    print('its not armstrong')"
   ]
  },
  {
   "cell_type": "code",
   "execution_count": 21,
   "id": "ac5622de",
   "metadata": {},
   "outputs": [
    {
     "name": "stdout",
     "output_type": "stream",
     "text": [
      "enter number: 3\n",
      "2.0\n"
     ]
    }
   ],
   "source": [
    "# Write the program to add the first n terms of the following series: 1/1! + 1/2! + 1/3!... 1/n!\n",
    "\n",
    "n = int(input('enter number: '))\n",
    "summ = 0\n",
    "i = 1\n",
    "facto = 1\n",
    "while n>i:\n",
    "    facto *=i\n",
    "    summ = summ+i/facto\n",
    "    i=i+1\n",
    "print(round(summ,2))"
   ]
  },
  {
   "cell_type": "code",
   "execution_count": 23,
   "id": "2792ad41",
   "metadata": {},
   "outputs": [
    {
     "name": "stdout",
     "output_type": "stream",
     "text": [
      "enter number5\n",
      "do you want to stop? Y or N: n\n",
      "enter number8\n",
      "do you want to stop? Y or N: N\n",
      "enter number3\n",
      "do you want to stop? Y or N: N\n",
      "enter number12\n",
      "do you want to stop? Y or N: y\n",
      "28\n"
     ]
    }
   ],
   "source": [
    "# Write the program to enter the number till the user wants and at the end it should display sum of numbers:  \n",
    "stop = 'N'\n",
    "summ = 0\n",
    "while stop.upper() == 'N':\n",
    "    n = int(input('enter number'))\n",
    "    summ = summ+n\n",
    "    stop = input('do you want to stop? Y or N: ')\n",
    "print(summ)"
   ]
  },
  {
   "cell_type": "code",
   "execution_count": 24,
   "id": "4619eeef",
   "metadata": {},
   "outputs": [
    {
     "name": "stdout",
     "output_type": "stream",
     "text": [
      "enter number: 6\n",
      "enter number: -1\n",
      "enter number: -4\n",
      "enter number: 5\n",
      "enter number: 9\n",
      "enter number: -7\n",
      "enter number: 8\n",
      "enter number: 0\n",
      "4\n",
      "3\n"
     ]
    }
   ],
   "source": [
    "# Write a program to enter a number till the user enters zero and in the end it should show the count of positive and negative number: \n",
    "\n",
    "n = 1\n",
    "count_p = 0\n",
    "count_n = 0\n",
    "while n!=0:\n",
    "    n = int(input('enter number: '))\n",
    "    if n >0:\n",
    "        count_p +=1\n",
    "    elif n<0:\n",
    "        count_n +=1\n",
    "print(count_p)\n",
    "print(count_n)\n",
    "    "
   ]
  },
  {
   "cell_type": "code",
   "execution_count": 25,
   "id": "24803ac2",
   "metadata": {},
   "outputs": [
    {
     "name": "stdout",
     "output_type": "stream",
     "text": [
      "enter number: 6\n",
      "enter number: -1\n",
      "enter number: -4\n",
      "enter number: 5\n",
      "enter number: 9\n",
      "enter number: -7\n",
      "enter number: 8\n",
      "enter number: 0\n",
      "28\n",
      "-12\n"
     ]
    }
   ],
   "source": [
    "# Write a program to enter a number till the user enters zero and in the end it should show the sum of positive and negative number: \n",
    "\n",
    "n = 1\n",
    "summ_p = 0\n",
    "summ_n = 0\n",
    "while n!=0:\n",
    "    n = int(input('enter number: '))\n",
    "    if n >0:\n",
    "        summ_p +=n\n",
    "    elif n<0:\n",
    "        summ_n +=n\n",
    "print(summ_p)\n",
    "print(summ_n)"
   ]
  },
  {
   "cell_type": "code",
   "execution_count": 26,
   "id": "9d1ad83e",
   "metadata": {},
   "outputs": [
    {
     "name": "stdout",
     "output_type": "stream",
     "text": [
      "enter number: 12321\n",
      "12321\n",
      "Its Palindrome.\n"
     ]
    }
   ],
   "source": [
    "# Check whether the number is palindrome or not:\n",
    "n = int(input('enter number: '))\n",
    "check_n = n\n",
    "d = 0\n",
    "pal = 0\n",
    "while n>0:\n",
    "    d = n%10\n",
    "    pal = (pal*10)+d\n",
    "    n = n//10\n",
    "print(pal)\n",
    "if check_n == pal:\n",
    "    print('Its Palindrome.')\n",
    "else:\n",
    "    print('Its not Palindrome.')"
   ]
  },
  {
   "cell_type": "code",
   "execution_count": 27,
   "id": "d6f1a33e",
   "metadata": {},
   "outputs": [
    {
     "name": "stdout",
     "output_type": "stream",
     "text": [
      "enter number: 5\n",
      "2.72\n"
     ]
    }
   ],
   "source": [
    "# Write the program to add the first n terms of the following series: 1 + 1/1! + 1/2! + 1/3!... 1/n!\n",
    "n = int(input('enter number: '))\n",
    "facto = 1\n",
    "s =1\n",
    "i = 1\n",
    "while n>=i:\n",
    "    facto *=i\n",
    "    s = s + 1/facto\n",
    "    i+=1\n",
    "print(round(s,2))"
   ]
  },
  {
   "cell_type": "code",
   "execution_count": 28,
   "id": "6c36a8f8",
   "metadata": {},
   "outputs": [
    {
     "name": "stdout",
     "output_type": "stream",
     "text": [
      "enter number: 7\n",
      "enter number: 4\n",
      "enter number: 6\n",
      "enter number: 5\n",
      "enter number: 9\n",
      "enter number: 12\n",
      "enter number: 2\n",
      "enter number: 1\n",
      "enter number: 3\n",
      "enter number: 2\n",
      "5\n"
     ]
    }
   ],
   "source": [
    "# Write a program that accepts 10 numbers from user and display its average:\n",
    "i = 1\n",
    "summ = 0\n",
    "count = 0\n",
    "while i<=10:\n",
    "    n = int(input('enter number: '))\n",
    "    summ += n\n",
    "    count+=1\n",
    "    i+=1\n",
    "avrg = summ/count\n",
    "print(round(avrg))"
   ]
  },
  {
   "cell_type": "code",
   "execution_count": 29,
   "id": "3ce6f1b4",
   "metadata": {},
   "outputs": [
    {
     "name": "stdout",
     "output_type": "stream",
     "text": [
      "enter number: 7\n",
      "enter number: 4\n",
      "enter number: 6\n",
      "enter number: 5\n",
      "enter number: 9\n",
      "enter number: 12\n",
      "enter number: 2\n",
      "enter number: 9\n",
      "enter number: 8\n",
      "enter number: 6\n",
      "[7, 4, 6, 5, 9, 12, 2, 9, 8, 6]\n",
      "maximum number is: 12\n",
      "minimum number is: 2\n"
     ]
    }
   ],
   "source": [
    "# Write a program that accepts 10 numbers from user and display smallest and lasgest:\n",
    "l = []\n",
    "i = 1\n",
    "while i<=10:\n",
    "    n = int(input('enter number: '))\n",
    "    l.append(n)\n",
    "    i += 1\n",
    "print(l)\n",
    "print(f'maximum number is: {max(l)}')\n",
    "print(f'minimum number is: {min(l)}')"
   ]
  },
  {
   "cell_type": "code",
   "execution_count": 30,
   "id": "d4fdf3b8",
   "metadata": {},
   "outputs": [
    {
     "name": "stdout",
     "output_type": "stream",
     "text": [
      "enter number 1: 16\n",
      "enter number 2: 12\n",
      "28\n",
      "42\n"
     ]
    }
   ],
   "source": [
    "# Write a program to display sum of odd number and sum of even number between two numbers accepted form the the user:\n",
    "\n",
    "n1 = int(input('enter number 1: '))\n",
    "n2 = int(input('enter number 2: '))\n",
    "summ_o = 0\n",
    "summ_e = 0\n",
    "if n1>n2:\n",
    "    while n1>=n2:\n",
    "        if n2%2==0:\n",
    "            summ_e +=n2\n",
    "        else:\n",
    "            summ_o+=n2\n",
    "        n2+=1\n",
    "elif n2>n1:\n",
    "    while n2>=n1:\n",
    "        if n1%2==0:\n",
    "            summ_e += n1\n",
    "        else:\n",
    "            summ_o+=n1\n",
    "        n1+=1\n",
    "print(summ_o)\n",
    "print(summ_e)"
   ]
  },
  {
   "cell_type": "code",
   "execution_count": 31,
   "id": "38e8678f",
   "metadata": {},
   "outputs": [
    {
     "name": "stdout",
     "output_type": "stream",
     "text": [
      "[104, 130, 143, 169, 182, 208, 221, 247, 260, 286, 299, 325, 338, 364, 377, 403, 416, 442, 455, 481, 494]\n"
     ]
    }
   ],
   "source": [
    "# Write a program to display all the numbers that are divisible by 13 and not by 3 between 100 and 500:\n",
    "\n",
    "l1 = []\n",
    "i = 100\n",
    "while i<500:\n",
    "    if i%13 == 0 and i%3!=0:\n",
    "        l1.append(i)\n",
    "    i+=1\n",
    "print(l1)"
   ]
  },
  {
   "cell_type": "code",
   "execution_count": 32,
   "id": "bf36b14d",
   "metadata": {},
   "outputs": [
    {
     "name": "stdout",
     "output_type": "stream",
     "text": [
      "enter number: 25\n",
      "1 4 9 16 25 36 49 64 81 100 121 144 169 196 225 256 289 324 361 400 441 484 529 576 625 "
     ]
    }
   ],
   "source": [
    "# Write a program to display following series 1 4 9 16 25...n:\n",
    "n = int(input('enter number: '))\n",
    "i = 1\n",
    "while i<=n:\n",
    "    sq = i**2\n",
    "    print(sq,end = ' ')\n",
    "    i+=1"
   ]
  },
  {
   "cell_type": "code",
   "execution_count": 33,
   "id": "bcde5b12",
   "metadata": {},
   "outputs": [
    {
     "name": "stdout",
     "output_type": "stream",
     "text": [
      "enter number: 8\n",
      "1+8+27+64+125+216+343+512+\n",
      "1296\n"
     ]
    }
   ],
   "source": [
    "# Write the sum of the following series: 1+8+27+...n:\n",
    "n = int(input('enter number: '))\n",
    "i = 1\n",
    "summ = 0\n",
    "while i<=n:\n",
    "    cube = i**3\n",
    "    print(cube, end = '+')\n",
    "    summ+=cube\n",
    "    i+=1\n",
    "    \n",
    "print('')\n",
    "print(summ)"
   ]
  },
  {
   "cell_type": "code",
   "execution_count": 34,
   "id": "5a51b512",
   "metadata": {},
   "outputs": [
    {
     "name": "stdout",
     "output_type": "stream",
     "text": [
      "P\n",
      "Y\n",
      "T\n",
      "H\n",
      "O\n",
      "N\n"
     ]
    }
   ],
   "source": [
    "# Print PYTHON using while loop:\n",
    "st = 'PYTHON'\n",
    "i = 0\n",
    "while i<len(st):\n",
    "    print(st[i])\n",
    "    i+=1"
   ]
  },
  {
   "cell_type": "code",
   "execution_count": 35,
   "id": "03686419",
   "metadata": {},
   "outputs": [
    {
     "name": "stdout",
     "output_type": "stream",
     "text": [
      "23\n",
      "45\n",
      "25\n",
      "33\n",
      "71\n"
     ]
    }
   ],
   "source": [
    "# Write a program to only print odd numbers from the given list:\n",
    "l = [23,45,32,25,46,33,71,90]\n",
    "i = 0\n",
    "while i<len(l):\n",
    "    if l[i]%2!=0:\n",
    "        print(l[i])\n",
    "    i+=1"
   ]
  },
  {
   "cell_type": "code",
   "execution_count": 36,
   "id": "16a3e4fd",
   "metadata": {},
   "outputs": [
    {
     "name": "stdout",
     "output_type": "stream",
     "text": [
      "enter number: 8\n",
      "1\n",
      "2\n",
      "4\n",
      "8\n"
     ]
    }
   ],
   "source": [
    "# Write a program to print all the factors of a given number:\n",
    "n = int(input('enter number: '))\n",
    "i = 1\n",
    "while i<=n:\n",
    "    if n%i==0:\n",
    "        print(i)\n",
    "    i+=1"
   ]
  },
  {
   "cell_type": "code",
   "execution_count": 38,
   "id": "2b425d13",
   "metadata": {},
   "outputs": [
    {
     "name": "stdout",
     "output_type": "stream",
     "text": [
      "enter number: 8\n",
      "38\n"
     ]
    }
   ],
   "source": [
    "# Write the sum of the following series: 1+4-9+16...n:\n",
    "\n",
    "n = int(input('enter number: '))\n",
    "i = 2\n",
    "sq_p = 1\n",
    "sq_n = 0\n",
    "while i<=n:\n",
    "    if i%2 == 0:\n",
    "        sq_p = sq_p +(i**2)\n",
    "        i+=1\n",
    "    else:\n",
    "        sq_n = sq_n +(i**2)\n",
    "        i+=1\n",
    "print(sq_p-sq_n)"
   ]
  },
  {
   "cell_type": "code",
   "execution_count": 39,
   "id": "d3b8a52d",
   "metadata": {},
   "outputs": [
    {
     "name": "stdout",
     "output_type": "stream",
     "text": [
      "enter number5\n",
      "2, 22, 222, 2222, 22222, "
     ]
    }
   ],
   "source": [
    "# Write the sum of the following series: 2, 22, 222, 2222,...n\n",
    "n = int(input('enter number'))\n",
    "st = '2'\n",
    "i = 1\n",
    "while i<=n:\n",
    "    print(st,end = ', ')\n",
    "    st+='2'\n",
    "    i+=1"
   ]
  },
  {
   "cell_type": "code",
   "execution_count": null,
   "id": "eb9adcd1",
   "metadata": {},
   "outputs": [],
   "source": []
  }
 ],
 "metadata": {
  "kernelspec": {
   "display_name": "Python 3 (ipykernel)",
   "language": "python",
   "name": "python3"
  },
  "language_info": {
   "codemirror_mode": {
    "name": "ipython",
    "version": 3
   },
   "file_extension": ".py",
   "mimetype": "text/x-python",
   "name": "python",
   "nbconvert_exporter": "python",
   "pygments_lexer": "ipython3",
   "version": "3.9.12"
  }
 },
 "nbformat": 4,
 "nbformat_minor": 5
}
