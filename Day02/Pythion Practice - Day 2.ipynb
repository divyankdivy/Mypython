{
 "cells": [
  {
   "cell_type": "markdown",
   "id": "9e303ac9",
   "metadata": {},
   "source": [
    "# Day 2"
   ]
  },
  {
   "cell_type": "markdown",
   "id": "8b076cfe",
   "metadata": {},
   "source": [
    "### Randomisation"
   ]
  },
  {
   "cell_type": "code",
   "execution_count": 1,
   "id": "0eb7ff1b",
   "metadata": {},
   "outputs": [],
   "source": [
    "import random"
   ]
  },
  {
   "cell_type": "code",
   "execution_count": 2,
   "id": "180d91f0",
   "metadata": {},
   "outputs": [
    {
     "name": "stdout",
     "output_type": "stream",
     "text": [
      "10\n"
     ]
    }
   ],
   "source": [
    "# generate a random integer between 1 and 10:\n",
    "number = random.randint(1,10)\n",
    "print(number)"
   ]
  },
  {
   "cell_type": "code",
   "execution_count": 3,
   "id": "dbeeea6b",
   "metadata": {},
   "outputs": [
    {
     "name": "stdout",
     "output_type": "stream",
     "text": [
      "mango\n"
     ]
    }
   ],
   "source": [
    "# select a random element from a list:\n",
    "\n",
    "l1 = ['apple','banana','papaya','mango','grapes']\n",
    "fruit = random.choice(l1)\n",
    "print(fruit)"
   ]
  },
  {
   "cell_type": "code",
   "execution_count": 4,
   "id": "8a521c3c",
   "metadata": {},
   "outputs": [
    {
     "name": "stdout",
     "output_type": "stream",
     "text": [
      "92, 44, 42, 70, 77, 6, 64, 95, 7, 45, "
     ]
    }
   ],
   "source": [
    "# Generating Multiple Random Numbers\n",
    "for i in range(10):\n",
    "    print(random.randint(1,100),end = ', ')"
   ]
  },
  {
   "cell_type": "code",
   "execution_count": 5,
   "id": "382ef57a",
   "metadata": {},
   "outputs": [
    {
     "name": "stdout",
     "output_type": "stream",
     "text": [
      "2.661720625713225,74.90481542600551,41.27189865951657,70.54935235709605,1.553227345498043,12.79333381986238,"
     ]
    }
   ],
   "source": [
    "# Generate Random Float Numbers in Python\n",
    "\n",
    "for i in range(6):\n",
    "    print(random.uniform(1,100),end=',')"
   ]
  },
  {
   "cell_type": "code",
   "execution_count": 6,
   "id": "2108b24d",
   "metadata": {},
   "outputs": [
    {
     "name": "stdout",
     "output_type": "stream",
     "text": [
      "['apple', 'grapes', 'papaya', 'mango', 'banana']\n"
     ]
    }
   ],
   "source": [
    "# Shuffle List in Python\n",
    "\n",
    "l1 = ['apple','banana','papaya','mango','grapes']\n",
    "random.shuffle(l1)\n",
    "print(l1)"
   ]
  },
  {
   "cell_type": "code",
   "execution_count": 7,
   "id": "2c74034f",
   "metadata": {},
   "outputs": [
    {
     "name": "stdout",
     "output_type": "stream",
     "text": [
      "1\n"
     ]
    }
   ],
   "source": [
    "# Rolling a Dice\n",
    "dice = random.randint(1,6)\n",
    "print(dice)"
   ]
  },
  {
   "cell_type": "code",
   "execution_count": 8,
   "id": "baf506d7",
   "metadata": {},
   "outputs": [
    {
     "name": "stdout",
     "output_type": "stream",
     "text": [
      "12\n"
     ]
    }
   ],
   "source": [
    "# Generating Even Numbers\n",
    "even_num = random.randrange(2,35,2)\n",
    "print(even_num)"
   ]
  },
  {
   "cell_type": "code",
   "execution_count": 9,
   "id": "4fe93a62",
   "metadata": {},
   "outputs": [
    {
     "name": "stdout",
     "output_type": "stream",
     "text": [
      "orange\n"
     ]
    }
   ],
   "source": [
    "# Selecting a Random Color\n",
    "colors = [\"red\", \"blue\", \"green\", \"yellow\", \"orange\", \"purple\"]\n",
    "col_choice = random.choice(colors)\n",
    "print(col_choice)"
   ]
  },
  {
   "cell_type": "code",
   "execution_count": 10,
   "id": "cef16a02",
   "metadata": {},
   "outputs": [
    {
     "name": "stdout",
     "output_type": "stream",
     "text": [
      "['purple', 'yellow', 'red', 'green', 'blue', 'orange']\n"
     ]
    }
   ],
   "source": [
    "# Shuffling a list\n",
    "colors = [\"red\", \"blue\", \"green\", \"yellow\", \"orange\", \"purple\"]\n",
    "l = random.shuffle(colors)\n",
    "print(colors)"
   ]
  },
  {
   "cell_type": "code",
   "execution_count": 12,
   "id": "4ea2368b",
   "metadata": {},
   "outputs": [
    {
     "name": "stdout",
     "output_type": "stream",
     "text": [
      "Welcome to Rock Paper Scissors\n",
      "Choose 1 for Rock\n",
      "Choose 2 for Paper\n",
      "Choose 3 for Scissor\n",
      "select a number between 1 to 3: 2\n",
      "the option chose by user is Paper\n",
      "the option chose by computer is Rock\n",
      "You win\n"
     ]
    }
   ],
   "source": [
    "#  Rock-Paper-Scissors Game\n",
    "\n",
    "print(\"Welcome to Rock Paper Scissors\")\n",
    "\n",
    "print('Choose 1 for Rock\\nChoose 2 for Paper\\nChoose 3 for Scissor')\n",
    "\n",
    "user_choice = int(input('select a number between 1 to 3: '))\n",
    "print('the option chose by user is',end =' ')\n",
    "if user_choice == 1:\n",
    "    print('Rock')\n",
    "elif user_choice == 2:\n",
    "    print('Paper')\n",
    "elif user_choice == 3:\n",
    "    print('Scissor')\n",
    "\n",
    "comp = random.randint(1,3)\n",
    "print('the option chose by computer is',end =' ')\n",
    "if comp == 1:\n",
    "    print('Rock')\n",
    "elif comp == 2:\n",
    "    print('Paper')\n",
    "elif comp == 3:\n",
    "    print('Scissor')\n",
    "\n",
    "if user_choice == comp:\n",
    "    print('Tie')\n",
    "elif user_choice == 1 and comp == 2:\n",
    "    print('You Loose')\n",
    "elif user_choice == 1 and comp == 3:\n",
    "    print('You win')\n",
    "elif user_choice == 2 and comp == 1:\n",
    "    print('You win')\n",
    "elif user_choice == 2 and comp == 3:\n",
    "    print('You Loose')\n",
    "elif user_choice == 3 and comp == 1:\n",
    "    print('You loose')\n",
    "elif user_choice == 3 and comp == 2:\n",
    "    print('You Win')"
   ]
  },
  {
   "cell_type": "code",
   "execution_count": 13,
   "id": "9762115a",
   "metadata": {},
   "outputs": [
    {
     "name": "stdout",
     "output_type": "stream",
     "text": [
      "[17, 1]\n"
     ]
    }
   ],
   "source": [
    "# Random Sampling Elements\n",
    "\n",
    "sam = random.sample(range(1,20),2)\n",
    "print(sam)"
   ]
  },
  {
   "cell_type": "code",
   "execution_count": 14,
   "id": "b0c499da",
   "metadata": {},
   "outputs": [
    {
     "name": "stdout",
     "output_type": "stream",
     "text": [
      "[6, 24]\n"
     ]
    }
   ],
   "source": [
    "sam = random.sample((1,2,3,4,5,6,7,8,12,24,32,45,23),2)\n",
    "print(sam)"
   ]
  },
  {
   "cell_type": "code",
   "execution_count": 15,
   "id": "1ddbbe87",
   "metadata": {},
   "outputs": [
    {
     "name": "stdout",
     "output_type": "stream",
     "text": [
      "740,625,525,"
     ]
    }
   ],
   "source": [
    "# Generate 3 random integers between 100 and 999 which is divisible by 5\n",
    "\n",
    "for num in range(3):\n",
    "    print(random.randrange(100,999,5),end = ',')"
   ]
  },
  {
   "cell_type": "code",
   "execution_count": 16,
   "id": "a39c11f4",
   "metadata": {},
   "outputs": [
    {
     "name": "stdout",
     "output_type": "stream",
     "text": [
      "Creating 100 random lottery tickets\n",
      "2 lucky lottery tickets are [6508583251, 5087484544]\n"
     ]
    }
   ],
   "source": [
    "# Random Lottery Pick. Generate 100 random lottery tickets and pick two lucky tickets from it as a winner.\n",
    "\n",
    "print(\"Creating 100 random lottery tickets\")\n",
    "lottery_list = []\n",
    "for i in range(100):\n",
    "    lottery_list.append(random.randint(1000000000,9999999999))\n",
    "winners = random.sample(lottery_list,2)\n",
    "print('2 lucky lottery tickets are',winners)"
   ]
  },
  {
   "cell_type": "code",
   "execution_count": 17,
   "id": "e0df90b8",
   "metadata": {},
   "outputs": [
    {
     "name": "stdout",
     "output_type": "stream",
     "text": [
      "478087\n"
     ]
    }
   ],
   "source": [
    "# Generate 6 digit random secure OTP\n",
    "\n",
    "otp = random.randint(100000,999999)\n",
    "print(otp)"
   ]
  },
  {
   "cell_type": "code",
   "execution_count": 18,
   "id": "840eec7c",
   "metadata": {},
   "outputs": [
    {
     "name": "stdout",
     "output_type": "stream",
     "text": [
      "i\n"
     ]
    }
   ],
   "source": [
    "# Pick a random character from a given String\n",
    "st = 'This is my string'\n",
    "char = random.choice(st)\n",
    "print(char)"
   ]
  },
  {
   "cell_type": "code",
   "execution_count": 19,
   "id": "cada4338",
   "metadata": {},
   "outputs": [
    {
     "name": "stdout",
     "output_type": "stream",
     "text": [
      "n140p\n"
     ]
    }
   ],
   "source": [
    "# Generate random String of length 5\n",
    "import string\n",
    "n = 5\n",
    "st = ''.join(random.choices(string.ascii_lowercase+string.digits,k=n))\n",
    "print(str(st))"
   ]
  },
  {
   "cell_type": "code",
   "execution_count": 20,
   "id": "115ba7c5",
   "metadata": {},
   "outputs": [
    {
     "name": "stdout",
     "output_type": "stream",
     "text": [
      "Tails\n"
     ]
    }
   ],
   "source": [
    "# A Toss\n",
    "toss = random.randint(0,1)\n",
    "if toss == 0:\n",
    "    print('Heads')\n",
    "elif toss == 1:\n",
    "    print('Tails')"
   ]
  },
  {
   "cell_type": "code",
   "execution_count": 22,
   "id": "684864f7",
   "metadata": {},
   "outputs": [
    {
     "name": "stdout",
     "output_type": "stream",
     "text": [
      "enter names:\n",
      "jenny, steve, michael, angela, jack\n",
      "steve is going to pay the bill.\n"
     ]
    }
   ],
   "source": [
    "# You are going to write a program that will select a random name from a list of names. The person selected will have to pay for everybody's food bill.\n",
    "\n",
    "name = input('enter names:\\n').split(', ')\n",
    "name_len = len(name)\n",
    "name_choice = random.randint(0,name_len-1)\n",
    "print(name[name_choice],'is going to pay the bill.')"
   ]
  },
  {
   "cell_type": "code",
   "execution_count": 24,
   "id": "a689b826",
   "metadata": {
    "scrolled": true
   },
   "outputs": [
    {
     "name": "stdout",
     "output_type": "stream",
     "text": [
      "ben is going to pay the bill.\n"
     ]
    }
   ],
   "source": [
    "name_list = ['jenny', 'james', 'ben', 'michael', 'steve', 'Angela']\n",
    "name_len = len(name_list)\n",
    "name_choice = random.randint(0,name_len-1)\n",
    "print(name_list[name_choice],'is going to pay the bill.')"
   ]
  },
  {
   "cell_type": "markdown",
   "id": "a9010eab",
   "metadata": {},
   "source": [
    "### For Loop"
   ]
  },
  {
   "cell_type": "code",
   "execution_count": 25,
   "id": "d95948b9",
   "metadata": {},
   "outputs": [
    {
     "name": "stdout",
     "output_type": "stream",
     "text": [
      "1, 2, 3, 4, 5, 6, 7, 8, 9, 10, "
     ]
    }
   ],
   "source": [
    "# Print First 10 natural numbers using while loop\n",
    "for i in range(1,11):\n",
    "    print(i, end = ', ')"
   ]
  },
  {
   "cell_type": "code",
   "execution_count": 26,
   "id": "db16fb97",
   "metadata": {},
   "outputs": [
    {
     "name": "stdout",
     "output_type": "stream",
     "text": [
      "1  \n",
      "1 2  \n",
      "1 2 3  \n",
      "1 2 3 4  \n",
      "1 2 3 4 5  \n"
     ]
    }
   ],
   "source": [
    "# Print the following pattern\n",
    "\n",
    "for i in range(1,6):\n",
    "    for j in range(1,i+1):\n",
    "        print(j,end = ' ')\n",
    "    print(' ')"
   ]
  },
  {
   "cell_type": "code",
   "execution_count": 27,
   "id": "1bbeb7d4",
   "metadata": {},
   "outputs": [
    {
     "name": "stdout",
     "output_type": "stream",
     "text": [
      "enter a number12\n",
      "78\n"
     ]
    }
   ],
   "source": [
    "# Calculate the sum of all numbers from 1 to a given number\n",
    "\n",
    "number = int(input('enter a number'))\n",
    "summ = 0\n",
    "for num in range(1, number+1):\n",
    "    summ+=num\n",
    "print(summ)"
   ]
  },
  {
   "cell_type": "code",
   "execution_count": 28,
   "id": "9a9b90fb",
   "metadata": {},
   "outputs": [
    {
     "name": "stdout",
     "output_type": "stream",
     "text": [
      "enter the number which you want to see the multiplication table: 5\n",
      "5 * 1 = 25\n",
      "5 * 2 = 25\n",
      "5 * 3 = 25\n",
      "5 * 4 = 25\n",
      "5 * 5 = 25\n",
      "5 * 6 = 25\n",
      "5 * 7 = 25\n",
      "5 * 8 = 25\n",
      "5 * 9 = 25\n",
      "5 * 10 = 25\n"
     ]
    }
   ],
   "source": [
    "# Write a program to print multiplication table of a given number\n",
    "\n",
    "number = int(input('enter the number which you want to see the multiplication table: '))\n",
    "\n",
    "for num in range(1,11):\n",
    "    multi = number*i\n",
    "    print(f'{number} * {num} = {multi}')"
   ]
  },
  {
   "cell_type": "code",
   "execution_count": 29,
   "id": "b7161141",
   "metadata": {
    "scrolled": true
   },
   "outputs": [
    {
     "name": "stdout",
     "output_type": "stream",
     "text": [
      "12\n",
      "75\n",
      "150\n",
      "180\n",
      "145\n",
      "525\n",
      "50\n"
     ]
    }
   ],
   "source": [
    "# Display numbers from a list using loop\n",
    "\n",
    "numbers = [12, 75, 150, 180, 145, 525, 50]\n",
    "for num in numbers:\n",
    "    print(num)"
   ]
  },
  {
   "cell_type": "code",
   "execution_count": 30,
   "id": "86ab8646",
   "metadata": {},
   "outputs": [
    {
     "name": "stdout",
     "output_type": "stream",
     "text": [
      "75\n",
      "150\n",
      "145\n"
     ]
    }
   ],
   "source": [
    "# Display numbers from a list using the loop \n",
    "# The number must be divisible by five\n",
    "# If the number is greater than 150, then skip it and move to the next number\n",
    "# If the number is greater than 500, then stop the loop\n",
    "\n",
    "numbers = [12, 75, 150, 180, 145, 525, 50]\n",
    "\n",
    "for num in numbers:\n",
    "    if num>500:\n",
    "        break\n",
    "    if num>150:\n",
    "        continue\n",
    "    if num%5 ==0:\n",
    "        print(num)"
   ]
  },
  {
   "cell_type": "code",
   "execution_count": 31,
   "id": "27549ea7",
   "metadata": {},
   "outputs": [
    {
     "name": "stdout",
     "output_type": "stream",
     "text": [
      "red\n",
      "blue\n",
      "green\n",
      "yellow\n",
      "orange\n",
      "purple\n"
     ]
    }
   ],
   "source": [
    "# Display items from a list using loop\n",
    "\n",
    "colors = [\"red\", \"blue\", \"green\", \"yellow\", \"orange\", \"purple\"]\n",
    "\n",
    "for items in colors:\n",
    "    print(items)"
   ]
  },
  {
   "cell_type": "code",
   "execution_count": 32,
   "id": "27307c4a",
   "metadata": {},
   "outputs": [
    {
     "name": "stdout",
     "output_type": "stream",
     "text": [
      "5 4 3 2 1  \n",
      "4 3 2 1  \n",
      "3 2 1  \n",
      "2 1  \n",
      "1  \n"
     ]
    }
   ],
   "source": [
    "# Print the following pattern\n",
    "\n",
    "for i in range(5,0,-1):\n",
    "    for j in range(i,0,-1):\n",
    "        print(j,end = ' ')\n",
    "    print(' ')\n",
    "    "
   ]
  },
  {
   "cell_type": "code",
   "execution_count": 33,
   "id": "9a0a6833",
   "metadata": {},
   "outputs": [
    {
     "name": "stdout",
     "output_type": "stream",
     "text": [
      "[50, 40, 30, 20, 10]\n"
     ]
    }
   ],
   "source": [
    "#  Print list in reverse order using a loop\n",
    "\n",
    "list1 = [10, 20, 30, 40, 50]\n",
    "rev_list = []\n",
    "\n",
    "for i in list1[::-1]:\n",
    "    rev_list.append(i)\n",
    "print(rev_list)"
   ]
  },
  {
   "cell_type": "code",
   "execution_count": 34,
   "id": "45ae373c",
   "metadata": {},
   "outputs": [
    {
     "name": "stdout",
     "output_type": "stream",
     "text": [
      "-10, -9, -8, -7, -6, -5, -4, -3, -2, -1, "
     ]
    }
   ],
   "source": [
    "# Display numbers from -10 to -1 using for loop\n",
    "\n",
    "for i in range(-10,0):\n",
    "    print(i,end = ', ')"
   ]
  },
  {
   "cell_type": "code",
   "execution_count": 35,
   "id": "366badef",
   "metadata": {},
   "outputs": [
    {
     "name": "stdout",
     "output_type": "stream",
     "text": [
      "1\n",
      "2\n",
      "3\n",
      "4\n",
      "5\n",
      "Done\n"
     ]
    }
   ],
   "source": [
    "# Use else block to display a message “Done” after successful execution of for loop\n",
    "for i in range(1,6):\n",
    "    print(i)\n",
    "else:\n",
    "    print(\"Done\")"
   ]
  },
  {
   "cell_type": "code",
   "execution_count": 36,
   "id": "c213b0c9",
   "metadata": {},
   "outputs": [
    {
     "name": "stdout",
     "output_type": "stream",
     "text": [
      "enter starting number: 1\n",
      "enter ending number: 100\n",
      "2, 3, 5, 7, 11, 13, 17, 19, 23, 29, 31, 37, 41, 43, 47, 53, 59, 61, 67, 71, 73, 79, 83, 89, 97, "
     ]
    }
   ],
   "source": [
    "# Write a program to display all prime numbers within a range\n",
    "\n",
    "start_num = int(input('enter starting number: '))\n",
    "end_num = int(input('enter ending number: '))\n",
    "\n",
    "for num in range(start_num, end_num+1):\n",
    "    \n",
    "    if num>1:\n",
    "        for i in range(2,num):\n",
    "            if num%i == 0:\n",
    "                break\n",
    "        else:\n",
    "            print(num,end = ', ')"
   ]
  },
  {
   "cell_type": "code",
   "execution_count": 37,
   "id": "57394f06",
   "metadata": {},
   "outputs": [
    {
     "name": "stdout",
     "output_type": "stream",
     "text": [
      "0, 1, 1, 2, 3, 5, 8, 13, 21, 34, "
     ]
    }
   ],
   "source": [
    "# Display Fibonacci series up to 10 terms\n",
    "\n",
    "f_num = 0\n",
    "s_num = 1\n",
    "print(f_num, end = ', ')\n",
    "print(s_num, end = ', ')\n",
    "\n",
    "for i in range(2,10):\n",
    "    t_num = f_num+s_num\n",
    "    print(t_num,end = ', ')\n",
    "    f_num = s_num\n",
    "    s_num = t_num"
   ]
  },
  {
   "cell_type": "code",
   "execution_count": 38,
   "id": "9e3908b7",
   "metadata": {},
   "outputs": [
    {
     "name": "stdout",
     "output_type": "stream",
     "text": [
      "enter number: 20\n",
      "0, 1, 1, 2, 3, 5, 8, 13, 21, 34, 55, 89, 144, 233, 377, 610, 987, 1597, 2584, 4181, "
     ]
    }
   ],
   "source": [
    "# Display Fibonacci series up to nth terms\n",
    "\n",
    "n = int(input('enter number: '))\n",
    "\n",
    "f_num = 0\n",
    "s_num = 1\n",
    "print(f_num, end = ', ')\n",
    "print(s_num, end = ', ')\n",
    "\n",
    "for i in range(2,n):\n",
    "    t_num = f_num+s_num\n",
    "    print(t_num,end = ', ')\n",
    "    f_num = s_num\n",
    "    s_num = t_num"
   ]
  },
  {
   "cell_type": "code",
   "execution_count": 39,
   "id": "7f6a6187",
   "metadata": {},
   "outputs": [
    {
     "name": "stdout",
     "output_type": "stream",
     "text": [
      "enter number: 6\n",
      "720\n"
     ]
    }
   ],
   "source": [
    "# Find the factorial of a given number\n",
    "\n",
    "num = int(input('enter number: '))\n",
    "facto = 1\n",
    "\n",
    "if num == 0 or num == 1:\n",
    "    facto = 1\n",
    "elif num>1:\n",
    "    for i in range(2, num+1):\n",
    "        facto *= i\n",
    "print(facto)"
   ]
  },
  {
   "cell_type": "code",
   "execution_count": 40,
   "id": "3c41d011",
   "metadata": {},
   "outputs": [
    {
     "name": "stdout",
     "output_type": "stream",
     "text": [
      "20\n",
      "40\n",
      "60\n",
      "80\n",
      "100\n"
     ]
    }
   ],
   "source": [
    "# Use a loop to display elements from a given list present at odd index positions\n",
    "\n",
    "my_list = [10, 20, 30, 40, 50, 60, 70, 80, 90, 100]\n",
    "\n",
    "for i in my_list[1::2]:\n",
    "    print(i)"
   ]
  },
  {
   "cell_type": "code",
   "execution_count": 41,
   "id": "5c1c637e",
   "metadata": {},
   "outputs": [
    {
     "name": "stdout",
     "output_type": "stream",
     "text": [
      "enter number: 10\n",
      "1\n",
      "8\n",
      "27\n",
      "64\n",
      "125\n",
      "216\n",
      "343\n",
      "512\n",
      "729\n",
      "1000\n"
     ]
    }
   ],
   "source": [
    "# Calculate the cube of all numbers from 1 to a given number\n",
    "num = int(input('enter number: '))\n",
    "\n",
    "for i in range(1,num+1):\n",
    "    cube = i**3\n",
    "    print(cube)"
   ]
  },
  {
   "cell_type": "code",
   "execution_count": 42,
   "id": "c6b9ebed",
   "metadata": {},
   "outputs": [
    {
     "name": "stdout",
     "output_type": "stream",
     "text": [
      "2+22+222+2222+22222+\n",
      "Sum of series is: 24690\n"
     ]
    }
   ],
   "source": [
    "n = 5\n",
    "\n",
    "start = 2\n",
    "sum_seq = 0\n",
    "\n",
    "for i in range(0, n):\n",
    "    print(start,end = '+')\n",
    "    sum_seq +=start\n",
    "    \n",
    "    start = start * 10+2\n",
    "print('\\nSum of series is:',sum_seq)"
   ]
  },
  {
   "cell_type": "code",
   "execution_count": 43,
   "id": "5cb96bf8",
   "metadata": {},
   "outputs": [
    {
     "name": "stdout",
     "output_type": "stream",
     "text": [
      "*  \n",
      "* *  \n",
      "* * *  \n",
      "* * * *  \n",
      "* * * * *  \n",
      "* * * *  \n",
      "* * *  \n",
      "* *  \n",
      "*  \n"
     ]
    }
   ],
   "source": [
    "# Print the following pattern\n",
    "\n",
    "for i in range(1,6):\n",
    "    for j in range(1,i+1):\n",
    "        print('*',end = ' ')\n",
    "    print(' ')\n",
    "for i in range(4,0,-1):\n",
    "    for j in range(i,0,-1):\n",
    "        print('*',end = ' ')\n",
    "    print(' ')"
   ]
  },
  {
   "cell_type": "code",
   "execution_count": 44,
   "id": "3e54a6db",
   "metadata": {},
   "outputs": [
    {
     "name": "stdout",
     "output_type": "stream",
     "text": [
      "9\n"
     ]
    }
   ],
   "source": [
    "# Find the largest number in a list using a for loop:\n",
    "my_list = [3, 9, 1, 6, 2, 8]\n",
    "lar_num = my_list[0]\n",
    "for num in my_list:\n",
    "    if num>lar_num:\n",
    "        lar_num = num\n",
    "print(lar_num)"
   ]
  },
  {
   "cell_type": "code",
   "execution_count": 45,
   "id": "5ebbc572",
   "metadata": {},
   "outputs": [
    {
     "name": "stdout",
     "output_type": "stream",
     "text": [
      "6.38\n"
     ]
    }
   ],
   "source": [
    "# Find the average of numbers in a list using a for loop\n",
    "\n",
    "my_list = [3, 9, 1, 6, 2, 8, 10, 12]\n",
    "\n",
    "summ = 0\n",
    "\n",
    "for num in my_list:\n",
    "    summ+=num\n",
    "    avge = summ/len(my_list)\n",
    "print(round(avge,2))\n"
   ]
  },
  {
   "cell_type": "code",
   "execution_count": 46,
   "id": "6f140f01",
   "metadata": {},
   "outputs": [
    {
     "name": "stdout",
     "output_type": "stream",
     "text": [
      "total number of vowel in string is: 3\n"
     ]
    }
   ],
   "source": [
    "# Count the number of vowels in a string using a for loop:\n",
    "\n",
    "st = 'Hello World'\n",
    "\n",
    "vowl = 'AEIOUaeiou'\n",
    "\n",
    "count = 0\n",
    "\n",
    "for char in st:\n",
    "    if char in vowl:\n",
    "        count += 1\n",
    "print('total number of vowel in string is:',count)"
   ]
  },
  {
   "cell_type": "code",
   "execution_count": 47,
   "id": "2825402d",
   "metadata": {},
   "outputs": [
    {
     "name": "stdout",
     "output_type": "stream",
     "text": [
      "[3, 4, 5]\n"
     ]
    }
   ],
   "source": [
    "# Find the common elements in two lists using a for loop:\n",
    "\n",
    "list1 = [1, 2, 3, 4, 5]\n",
    "list2 = [3, 4, 5, 6, 7]\n",
    "\n",
    "list3 = []\n",
    "\n",
    "for i in list1:\n",
    "    if i in list2:\n",
    "        list3.append(i)\n",
    "print(list3)\n",
    "    "
   ]
  },
  {
   "cell_type": "code",
   "execution_count": 48,
   "id": "33d3cf8b",
   "metadata": {},
   "outputs": [
    {
     "name": "stdout",
     "output_type": "stream",
     "text": [
      "1\n",
      "2\n",
      "4\n",
      "5\n"
     ]
    }
   ],
   "source": [
    "# Print numbers from 1 to 5, except 3 using a for loop and continue statement:\n",
    "\n",
    "for i in range(1,6):\n",
    "    if i == 3:\n",
    "        continue\n",
    "    else:\n",
    "        print(i)"
   ]
  },
  {
   "cell_type": "code",
   "execution_count": 49,
   "id": "f953bba2",
   "metadata": {},
   "outputs": [
    {
     "name": "stdout",
     "output_type": "stream",
     "text": [
      "1\n",
      "2\n",
      "3\n"
     ]
    }
   ],
   "source": [
    "# Print numbers from 1 to 10. If a number is divisible by 4, stop the loop using a for loop and break statement:\n",
    "\n",
    "for i in range(1,11):\n",
    "    if i%4==0:\n",
    "        break\n",
    "    else:\n",
    "        print(i)"
   ]
  },
  {
   "cell_type": "code",
   "execution_count": 50,
   "id": "de71a4cd",
   "metadata": {},
   "outputs": [
    {
     "name": "stdout",
     "output_type": "stream",
     "text": [
      "1\n",
      "3\n",
      "5\n",
      "7\n",
      "9\n",
      "Loop Completed successfully\n"
     ]
    }
   ],
   "source": [
    "# Print numbers from 1 to 10. If a number is even, skip it using a for loop and else clause:\n",
    "\n",
    "for i in range(1,11):\n",
    "    if i%2 == 0:\n",
    "        continue\n",
    "    else:\n",
    "        print(i)\n",
    "else:\n",
    "    print('Loop Completed successfully')"
   ]
  },
  {
   "cell_type": "code",
   "execution_count": 51,
   "id": "dd30c307",
   "metadata": {},
   "outputs": [
    {
     "name": "stdout",
     "output_type": "stream",
     "text": [
      "enter number 1: 12\n",
      "enter number 2: 37\n",
      "13\n",
      "17\n",
      "19\n",
      "23\n",
      "29\n",
      "31\n"
     ]
    }
   ],
   "source": [
    "# find prime number between two given numbers\n",
    "n1 = int(input('enter number 1: '))\n",
    "n2 = int(input('enter number 2: '))\n",
    "\n",
    "for num in range(n1,n2):\n",
    "    if num>1:\n",
    "        for i in range(2,num):\n",
    "            if num%i ==0:\n",
    "                break\n",
    "        else:\n",
    "            print(num)"
   ]
  },
  {
   "cell_type": "code",
   "execution_count": 52,
   "id": "503b667c",
   "metadata": {},
   "outputs": [
    {
     "name": "stdout",
     "output_type": "stream",
     "text": [
      "enter number 1: 1\n",
      "enter number 2: 100\n",
      "[2, 3, 5, 7, 11, 13, 17, 19, 23, 29, 31, 37, 41, 43, 47, 53, 59, 61, 67, 71, 73, 79, 83, 89, 97]\n"
     ]
    }
   ],
   "source": [
    "# find prime number between two given numbers\n",
    "n1 = int(input('enter number 1: '))\n",
    "n2 = int(input('enter number 2: '))\n",
    "\n",
    "l1 = []\n",
    "\n",
    "for num in range(n1,n2):\n",
    "    if num>1:\n",
    "        for i in range(2,num):\n",
    "            if num%i ==0:\n",
    "                break\n",
    "        else:\n",
    "            l1.append(num)\n",
    "print(l1)"
   ]
  },
  {
   "cell_type": "code",
   "execution_count": 53,
   "id": "bc80b105",
   "metadata": {},
   "outputs": [
    {
     "name": "stdout",
     "output_type": "stream",
     "text": [
      "enter number 1: 12\n",
      "enter number 2: 37\n",
      "312\n",
      "288\n"
     ]
    }
   ],
   "source": [
    "# Write the sum of odd and even number that fall between two given numbers.\n",
    "\n",
    "n1 = int(input('enter number 1: '))\n",
    "n2 = int(input('enter number 2: '))\n",
    "\n",
    "sum_odd = 0\n",
    "sum_even = 0\n",
    "\n",
    "for i in range(n1,n2):\n",
    "    if i%2==0:\n",
    "        sum_even +=i\n",
    "    else:\n",
    "        sum_odd += i\n",
    "print(sum_even)\n",
    "print(sum_odd)\n"
   ]
  },
  {
   "cell_type": "code",
   "execution_count": 54,
   "id": "9636b0c3",
   "metadata": {},
   "outputs": [
    {
     "name": "stdout",
     "output_type": "stream",
     "text": [
      "[121, 143, 165, 187, 209, 231, 253, 275, 297, 319, 341, 363, 385, 407, 429, 451, 473, 495]\n"
     ]
    }
   ],
   "source": [
    "# Write the program to display all the number that are divisible by 11 and not by 2 between 100 to 500.\n",
    "\n",
    "l1 = []\n",
    "\n",
    "for i in range(100,501):\n",
    "    if i%11 == 0 and i %2!=0:\n",
    "        l1.append(i)\n",
    "print(l1)"
   ]
  },
  {
   "cell_type": "code",
   "execution_count": 55,
   "id": "60307768",
   "metadata": {},
   "outputs": [
    {
     "name": "stdout",
     "output_type": "stream",
     "text": [
      "1\n",
      "5\n",
      "7\n",
      "11\n",
      "13\n",
      "17\n",
      "19\n"
     ]
    }
   ],
   "source": [
    "# Write the program to print number from 1 to 20 except multipe of 2 and 3\n",
    "\n",
    "for i in range(1,21):\n",
    "    if i%2 != 0 and i%3!=0:\n",
    "        print(i)\n",
    "        "
   ]
  },
  {
   "cell_type": "code",
   "execution_count": 56,
   "id": "0f9f6e64",
   "metadata": {},
   "outputs": [
    {
     "name": "stdout",
     "output_type": "stream",
     "text": [
      "5 5 5 5 5  \n",
      "4 4 4 4  \n",
      "3 3 3  \n",
      "2 2  \n",
      "1  \n"
     ]
    }
   ],
   "source": [
    "# Print the following pattern\n",
    "\n",
    "for i in range(5,0,-1):\n",
    "    for j in range(i,0,-1):\n",
    "        print(i,end = ' ')\n",
    "    print(' ')"
   ]
  },
  {
   "cell_type": "code",
   "execution_count": 57,
   "id": "aaee16eb",
   "metadata": {},
   "outputs": [
    {
     "name": "stdout",
     "output_type": "stream",
     "text": [
      "enter number: 79\n",
      "its a prime number\n"
     ]
    }
   ],
   "source": [
    "# Find if a given number is prime or not\n",
    "\n",
    "num = int(input('enter number: '))\n",
    "summ = 0\n",
    "for i in range(2,num):\n",
    "    if num%i ==0:\n",
    "        summ +=1\n",
    "if summ==0:\n",
    "    print('its a prime number')\n",
    "else:\n",
    "    print('its not a prime number')\n",
    "\n"
   ]
  },
  {
   "cell_type": "code",
   "execution_count": 2,
   "id": "686a3d55",
   "metadata": {},
   "outputs": [
    {
     "name": "stdout",
     "output_type": "stream",
     "text": [
      "1\n",
      "2\n",
      "Fizz\n",
      "4\n",
      "Buzz\n",
      "Fizz\n",
      "7\n",
      "8\n",
      "Fizz\n",
      "Buzz\n",
      "11\n",
      "Fizz\n",
      "13\n",
      "14\n",
      "FizzBuzz\n",
      "16\n",
      "17\n",
      "Fizz\n",
      "19\n",
      "Buzz\n",
      "Fizz\n",
      "22\n",
      "23\n",
      "Fizz\n",
      "Buzz\n",
      "26\n",
      "Fizz\n",
      "28\n",
      "29\n",
      "FizzBuzz\n"
     ]
    }
   ],
   "source": [
    "# Fizz-Buzz\n",
    "\n",
    "for i in range(1,31):\n",
    "    if i%3 ==0 and i%5==0:\n",
    "        print(\"FizzBuzz\")\n",
    "    elif i%3 == 0:\n",
    "        print('Fizz')\n",
    "    elif i%5==0:\n",
    "        print('Buzz')\n",
    "    else:\n",
    "        print(i)"
   ]
  },
  {
   "cell_type": "code",
   "execution_count": null,
   "id": "086a3531",
   "metadata": {},
   "outputs": [],
   "source": []
  }
 ],
 "metadata": {
  "kernelspec": {
   "display_name": "Python 3 (ipykernel)",
   "language": "python",
   "name": "python3"
  },
  "language_info": {
   "codemirror_mode": {
    "name": "ipython",
    "version": 3
   },
   "file_extension": ".py",
   "mimetype": "text/x-python",
   "name": "python",
   "nbconvert_exporter": "python",
   "pygments_lexer": "ipython3",
   "version": "3.9.12"
  }
 },
 "nbformat": 4,
 "nbformat_minor": 5
}
