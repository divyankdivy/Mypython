{
 "cells": [
  {
   "cell_type": "markdown",
   "id": "bad229d8",
   "metadata": {},
   "source": [
    "# Day 4"
   ]
  },
  {
   "cell_type": "markdown",
   "id": "7d0271fa",
   "metadata": {},
   "source": [
    "### Functions"
   ]
  },
  {
   "cell_type": "code",
   "execution_count": 1,
   "id": "64f75213",
   "metadata": {},
   "outputs": [
    {
     "name": "stdout",
     "output_type": "stream",
     "text": [
      "ben 21\n"
     ]
    }
   ],
   "source": [
    "# Create a function in Python\n",
    "\n",
    "def my_func(name,age):\n",
    "    print(name,age)\n",
    "    \n",
    "my_func('ben',21)"
   ]
  },
  {
   "cell_type": "code",
   "execution_count": 2,
   "id": "ef580ec6",
   "metadata": {},
   "outputs": [
    {
     "name": "stdout",
     "output_type": "stream",
     "text": [
      "1 2 3 4 5 "
     ]
    }
   ],
   "source": [
    "# Create a function with variable length of arguments\n",
    "def my_func(*n):\n",
    "    for i in n:\n",
    "        print(i,end = ' ')\n",
    "\n",
    "my_func(1,2,3,4,5)"
   ]
  },
  {
   "cell_type": "code",
   "execution_count": 3,
   "id": "7c2cbc1f",
   "metadata": {},
   "outputs": [
    {
     "name": "stdout",
     "output_type": "stream",
     "text": [
      "(1, 2, 3, 4, 5)\n"
     ]
    }
   ],
   "source": [
    "# Create a function with variable length of arguments\n",
    "def my_func(*n):\n",
    "    print(n)\n",
    "\n",
    "my_func(1,2,3,4,5)"
   ]
  },
  {
   "cell_type": "code",
   "execution_count": 4,
   "id": "23c8df4e",
   "metadata": {},
   "outputs": [
    {
     "data": {
      "text/plain": [
       "(10, 4)"
      ]
     },
     "execution_count": 4,
     "metadata": {},
     "output_type": "execute_result"
    }
   ],
   "source": [
    "# Return multiple values from a function\n",
    "def calc(a,b):\n",
    "    add = a+b\n",
    "    sub = a-b\n",
    "    return add,sub\n",
    "calc(7,3)"
   ]
  },
  {
   "cell_type": "code",
   "execution_count": 5,
   "id": "4d3b42ed",
   "metadata": {},
   "outputs": [
    {
     "name": "stdout",
     "output_type": "stream",
     "text": [
      "10 4\n"
     ]
    }
   ],
   "source": [
    "def calc(a,b):\n",
    "    add = a+b\n",
    "    sub = a-b\n",
    "    print(add,sub)\n",
    "calc(7,3)"
   ]
  },
  {
   "cell_type": "code",
   "execution_count": 6,
   "id": "827e1e55",
   "metadata": {},
   "outputs": [
    {
     "name": "stdout",
     "output_type": "stream",
     "text": [
      "Name:  Ben Salary:  51000\n"
     ]
    }
   ],
   "source": [
    "# Create a function with a default argument\n",
    "# Write a program to create a function show_employee() using the following conditions.\n",
    "# It should accept the employee’s name and salary and display both.\n",
    "# If the salary is missing in the function call then assign default value 9000 to salary\n",
    "\n",
    "def show_employee(name, salary = 9000): # Assigning default value of salary as 9000.\n",
    "    print('Name: ',name, 'Salary: ',salary)\n",
    "    \n",
    "show_employee('Ben', 51000)"
   ]
  },
  {
   "cell_type": "code",
   "execution_count": 7,
   "id": "3fd050af",
   "metadata": {},
   "outputs": [],
   "source": [
    "# Create an inner function to calculate the addition in the following way:\n",
    "# Create an outer function that will accept two parameters, a and b\n",
    "# Create an inner function inside an outer function that will calculate the addition of a and b\n",
    "# At last, an outer function will add 5 into addition and return it\n",
    "\n",
    "def out_func(a,b):\n",
    "    multi = a*b\n",
    "    def inn_func(a,b):\n",
    "        return a+b\n",
    "    add = inn_func(a,b)\n",
    "    return add+5\n"
   ]
  },
  {
   "cell_type": "code",
   "execution_count": 8,
   "id": "93b89ee3",
   "metadata": {},
   "outputs": [
    {
     "name": "stdout",
     "output_type": "stream",
     "text": [
      "15\n"
     ]
    }
   ],
   "source": [
    "result = out_func(3,7)\n",
    "print(result)"
   ]
  },
  {
   "cell_type": "code",
   "execution_count": 9,
   "id": "3721137f",
   "metadata": {},
   "outputs": [],
   "source": [
    "# WAF to print the length of a list. ( list is the parameter)\n",
    "\n",
    "def len_list(lists):\n",
    "    print(len(lists))"
   ]
  },
  {
   "cell_type": "code",
   "execution_count": 10,
   "id": "ebc83e1c",
   "metadata": {},
   "outputs": [],
   "source": [
    "l1 = ['apple','television','laptop','headphones','mobile','book','dummbell','sneakers','clothes']\n",
    "l2 = ['fridge','AC','inverter','battery','fork','photoframe','bed']"
   ]
  },
  {
   "cell_type": "code",
   "execution_count": 11,
   "id": "ee89b505",
   "metadata": {},
   "outputs": [
    {
     "name": "stdout",
     "output_type": "stream",
     "text": [
      "9\n"
     ]
    }
   ],
   "source": [
    "len_list(l1)"
   ]
  },
  {
   "cell_type": "code",
   "execution_count": 12,
   "id": "bb1087bd",
   "metadata": {},
   "outputs": [
    {
     "name": "stdout",
     "output_type": "stream",
     "text": [
      "7\n"
     ]
    }
   ],
   "source": [
    "len_list(l2)"
   ]
  },
  {
   "cell_type": "code",
   "execution_count": 13,
   "id": "58b0950d",
   "metadata": {},
   "outputs": [],
   "source": [
    "# WAF to print the elements of a list in a single line. ( list is the parameter)\n",
    "\n",
    "def list_elem(lists):\n",
    "    for item in lists:\n",
    "        print(item,end = ' ')"
   ]
  },
  {
   "cell_type": "code",
   "execution_count": 14,
   "id": "29499b0f",
   "metadata": {},
   "outputs": [
    {
     "name": "stdout",
     "output_type": "stream",
     "text": [
      "apple television laptop headphones mobile book dummbell sneakers clothes "
     ]
    }
   ],
   "source": [
    "list_elem(l1)"
   ]
  },
  {
   "cell_type": "code",
   "execution_count": 15,
   "id": "99d9b177",
   "metadata": {},
   "outputs": [
    {
     "name": "stdout",
     "output_type": "stream",
     "text": [
      "fridge AC inverter battery fork photoframe bed "
     ]
    }
   ],
   "source": [
    "list_elem(l2)"
   ]
  },
  {
   "cell_type": "code",
   "execution_count": 16,
   "id": "bfcb2c15",
   "metadata": {},
   "outputs": [],
   "source": [
    "# WAF to find the factorial of n. (n is the parameter)\n",
    "\n",
    "def find_f(n):\n",
    "    facto = 1\n",
    "    for i in range(1,n+1):\n",
    "        facto *= i\n",
    "    print(facto)\n",
    "        "
   ]
  },
  {
   "cell_type": "code",
   "execution_count": 17,
   "id": "59bf525e",
   "metadata": {},
   "outputs": [
    {
     "name": "stdout",
     "output_type": "stream",
     "text": [
      "120\n"
     ]
    }
   ],
   "source": [
    "find_f(5)"
   ]
  },
  {
   "cell_type": "code",
   "execution_count": 18,
   "id": "aae9e84a",
   "metadata": {},
   "outputs": [],
   "source": [
    "# WAF to return the factorial of n. (n is the parameter)\n",
    "def find_ft(n):\n",
    "    facto = 1\n",
    "    for i in range(1,n+1):\n",
    "        facto *= i\n",
    "    return facto\n",
    "        "
   ]
  },
  {
   "cell_type": "code",
   "execution_count": 19,
   "id": "0c61f113",
   "metadata": {},
   "outputs": [
    {
     "data": {
      "text/plain": [
       "120"
      ]
     },
     "execution_count": 19,
     "metadata": {},
     "output_type": "execute_result"
    }
   ],
   "source": [
    "find_ft(5)"
   ]
  },
  {
   "cell_type": "code",
   "execution_count": 20,
   "id": "849a7fc4",
   "metadata": {},
   "outputs": [],
   "source": [
    "# WAF to convert USD to INR.\n",
    "def usd_to_inr(usd_val):\n",
    "    inr_val = usd_val*80\n",
    "    print(usd_val,'USD =',inr_val,'INR')"
   ]
  },
  {
   "cell_type": "code",
   "execution_count": 21,
   "id": "00da6969",
   "metadata": {},
   "outputs": [
    {
     "name": "stdout",
     "output_type": "stream",
     "text": [
      "50 USD = 4000 INR\n"
     ]
    }
   ],
   "source": [
    "usd_to_inr(50)"
   ]
  },
  {
   "cell_type": "code",
   "execution_count": 22,
   "id": "e80d4961",
   "metadata": {},
   "outputs": [
    {
     "name": "stdout",
     "output_type": "stream",
     "text": [
      "100 USD = 8000 INR\n"
     ]
    }
   ],
   "source": [
    "usd_to_inr(100)"
   ]
  },
  {
   "cell_type": "code",
   "execution_count": 23,
   "id": "e5c5f629",
   "metadata": {},
   "outputs": [],
   "source": [
    "def ev_od(n):\n",
    "    if n%2==0:\n",
    "        print('even')\n",
    "    elif n%2!=0:\n",
    "        print('odd')"
   ]
  },
  {
   "cell_type": "code",
   "execution_count": 24,
   "id": "00ffaa22",
   "metadata": {},
   "outputs": [
    {
     "name": "stdout",
     "output_type": "stream",
     "text": [
      "odd\n"
     ]
    }
   ],
   "source": [
    "ev_od(53)"
   ]
  },
  {
   "cell_type": "code",
   "execution_count": 25,
   "id": "d26b7e16",
   "metadata": {},
   "outputs": [
    {
     "name": "stdout",
     "output_type": "stream",
     "text": [
      "Ben 21\n"
     ]
    }
   ],
   "source": [
    "# Assign a different name to function and call it through the new name\n",
    "\n",
    "def old_name(name,age):\n",
    "    print(name,age)\n",
    "old_name('Ben',21)"
   ]
  },
  {
   "cell_type": "code",
   "execution_count": 26,
   "id": "be6223d1",
   "metadata": {},
   "outputs": [],
   "source": [
    "new_name = old_name"
   ]
  },
  {
   "cell_type": "code",
   "execution_count": 27,
   "id": "8ddfbb87",
   "metadata": {},
   "outputs": [
    {
     "name": "stdout",
     "output_type": "stream",
     "text": [
      "Andrews 24\n"
     ]
    }
   ],
   "source": [
    "new_name('Andrews',24)"
   ]
  },
  {
   "cell_type": "code",
   "execution_count": 28,
   "id": "8f4918fe",
   "metadata": {},
   "outputs": [],
   "source": [
    "# Write a Python function to find the maximum of three numbers. \n",
    "\n",
    "def max_of_three(a,b,c):\n",
    "    if a>b and a>c:\n",
    "        return a\n",
    "    elif b>c and b>a:\n",
    "        return b\n",
    "    elif c>b and c>a:\n",
    "        return c\n",
    "    "
   ]
  },
  {
   "cell_type": "code",
   "execution_count": 29,
   "id": "bf8ad453",
   "metadata": {},
   "outputs": [
    {
     "data": {
      "text/plain": [
       "7"
      ]
     },
     "execution_count": 29,
     "metadata": {},
     "output_type": "execute_result"
    }
   ],
   "source": [
    "max_of_three(6,7,3)"
   ]
  },
  {
   "cell_type": "code",
   "execution_count": 30,
   "id": "5f6965db",
   "metadata": {},
   "outputs": [],
   "source": [
    "# Write a Python function to sum all the numbers in a list.\n",
    "\n",
    "def sum_list(lists):\n",
    "    summ = 0\n",
    "    for num in lists:\n",
    "        summ += num\n",
    "    return summ"
   ]
  },
  {
   "cell_type": "code",
   "execution_count": 31,
   "id": "6c9fa402",
   "metadata": {},
   "outputs": [
    {
     "data": {
      "text/plain": [
       "56"
      ]
     },
     "execution_count": 31,
     "metadata": {},
     "output_type": "execute_result"
    }
   ],
   "source": [
    "list1 = [4,2,11,8,5,9,14,3]\n",
    "sum_list(list1)"
   ]
  },
  {
   "cell_type": "code",
   "execution_count": 32,
   "id": "649b4289",
   "metadata": {},
   "outputs": [],
   "source": [
    "# Write a Python function to multiply all the numbers in a list.\n",
    "\n",
    "def list_multi(lists):\n",
    "    multi = 1\n",
    "    for num in lists:\n",
    "        multi *= num\n",
    "    return multi"
   ]
  },
  {
   "cell_type": "code",
   "execution_count": 33,
   "id": "2e4b4d40",
   "metadata": {},
   "outputs": [
    {
     "data": {
      "text/plain": [
       "1330560"
      ]
     },
     "execution_count": 33,
     "metadata": {},
     "output_type": "execute_result"
    }
   ],
   "source": [
    "list1 = [4,2,11,8,5,9,14,3]\n",
    "list_multi(list1)"
   ]
  },
  {
   "cell_type": "code",
   "execution_count": 34,
   "id": "2c24c4ff",
   "metadata": {},
   "outputs": [],
   "source": [
    "# Write a Python program to reverse a string.\n",
    "\n",
    "def rev_str(n):\n",
    "    rs = ''\n",
    "    for i in n:\n",
    "        rs = i+rs\n",
    "    return rs"
   ]
  },
  {
   "cell_type": "code",
   "execution_count": 35,
   "id": "96ecac00",
   "metadata": {},
   "outputs": [
    {
     "data": {
      "text/plain": [
       "'dcba4321'"
      ]
     },
     "execution_count": 35,
     "metadata": {},
     "output_type": "execute_result"
    }
   ],
   "source": [
    "rev_str('1234abcd')"
   ]
  },
  {
   "cell_type": "code",
   "execution_count": 36,
   "id": "1b3285a8",
   "metadata": {},
   "outputs": [],
   "source": [
    "# Write a Python program to reverse a string.\n",
    "\n",
    "def rev_str_wl(n):\n",
    "    rs = ''\n",
    "    i = 0\n",
    "    while i<len(n):\n",
    "        rs = n[i] + rs\n",
    "        i+=1\n",
    "    return rs"
   ]
  },
  {
   "cell_type": "code",
   "execution_count": 37,
   "id": "83765b17",
   "metadata": {},
   "outputs": [
    {
     "data": {
      "text/plain": [
       "'dcba4321'"
      ]
     },
     "execution_count": 37,
     "metadata": {},
     "output_type": "execute_result"
    }
   ],
   "source": [
    "rev_str_wl('1234abcd')"
   ]
  },
  {
   "cell_type": "code",
   "execution_count": 38,
   "id": "8084a28b",
   "metadata": {},
   "outputs": [],
   "source": [
    "# Write a Python function to calculate the factorial of a number (a non-negative integer). The function accepts the number as an argument.\n",
    "\n",
    "def facto_n(n):\n",
    "    factr = 1\n",
    "    i = 1\n",
    "    while i<=n:\n",
    "        factr*=i\n",
    "        i+=1\n",
    "    return factr"
   ]
  },
  {
   "cell_type": "code",
   "execution_count": 39,
   "id": "4f7fe04f",
   "metadata": {},
   "outputs": [
    {
     "data": {
      "text/plain": [
       "120"
      ]
     },
     "execution_count": 39,
     "metadata": {},
     "output_type": "execute_result"
    }
   ],
   "source": [
    "facto_n(5)"
   ]
  },
  {
   "cell_type": "code",
   "execution_count": 40,
   "id": "2ce11e7f",
   "metadata": {},
   "outputs": [],
   "source": [
    "# Write a Python function to check whether a number falls within a given range.\n",
    "\n",
    "def check_n(n):\n",
    "    if n in range(7,31):\n",
    "        print('Yes it is in given range.')\n",
    "    else:\n",
    "        print('No its not in given range.')"
   ]
  },
  {
   "cell_type": "code",
   "execution_count": 41,
   "id": "ebd1dd7d",
   "metadata": {},
   "outputs": [
    {
     "name": "stdout",
     "output_type": "stream",
     "text": [
      "Yes it is in given range.\n"
     ]
    }
   ],
   "source": [
    "check_n(13)"
   ]
  },
  {
   "cell_type": "code",
   "execution_count": 42,
   "id": "2d59209c",
   "metadata": {},
   "outputs": [],
   "source": [
    "# Write a Python function that accepts a string and counts the number of upper and lower case letters.\n",
    "# Sample String : 'The quick Brow Fox'\n",
    "def count_up_low(n):\n",
    "    low_c = 0\n",
    "    up_c = 0\n",
    "    for i in n:\n",
    "        if i.isupper():\n",
    "            up_c += 1\n",
    "        elif i.islower():\n",
    "            low_c += 1\n",
    "    print(low_c)\n",
    "    print(up_c)"
   ]
  },
  {
   "cell_type": "code",
   "execution_count": 43,
   "id": "50992285",
   "metadata": {},
   "outputs": [
    {
     "name": "stdout",
     "output_type": "stream",
     "text": [
      "13\n",
      "3\n"
     ]
    }
   ],
   "source": [
    "count_up_low('The quick Brown Fox')"
   ]
  },
  {
   "cell_type": "code",
   "execution_count": 44,
   "id": "dbd4c5b9",
   "metadata": {},
   "outputs": [],
   "source": [
    "def count_up_low_wl(n):\n",
    "    low_c = 0\n",
    "    up_c = 0\n",
    "    i = 0\n",
    "    while i<len(n):\n",
    "        if n[i].isupper():\n",
    "            up_c += 1\n",
    "        elif n[i].islower():\n",
    "            low_c += 1\n",
    "        i+=1\n",
    "    print(low_c)\n",
    "    print(up_c)"
   ]
  },
  {
   "cell_type": "code",
   "execution_count": 45,
   "id": "30e682ce",
   "metadata": {},
   "outputs": [
    {
     "name": "stdout",
     "output_type": "stream",
     "text": [
      "12\n",
      "3\n"
     ]
    }
   ],
   "source": [
    "count_up_low_wl('The quick Brow Fox')"
   ]
  },
  {
   "cell_type": "code",
   "execution_count": 46,
   "id": "d54a9208",
   "metadata": {},
   "outputs": [],
   "source": [
    "# Write a Python function that takes a list and returns a new list with distinct elements from the first list.\n",
    "\n",
    "def distinct_list(lists):\n",
    "    new_list = []\n",
    "    for items in lists:\n",
    "        if items not in new_list:\n",
    "            new_list.append(items)\n",
    "    return new_list\n",
    "    "
   ]
  },
  {
   "cell_type": "code",
   "execution_count": 47,
   "id": "b3885a15",
   "metadata": {},
   "outputs": [
    {
     "data": {
      "text/plain": [
       "[2, 4, 6, 1, 7, 8, 0, 23, 5, 9]"
      ]
     },
     "execution_count": 47,
     "metadata": {},
     "output_type": "execute_result"
    }
   ],
   "source": [
    "l1 = [2,4,2,6,1,6,4,7,8,0,23,2,4,7,5,9,9,8]\n",
    "distinct_list(l1)"
   ]
  },
  {
   "cell_type": "code",
   "execution_count": 48,
   "id": "a0d7dd65",
   "metadata": {},
   "outputs": [],
   "source": [
    "# Write a Python function that takes a number as a parameter and checks whether the number is prime or not.\n",
    "def prime_check(n):\n",
    "    factors = 0\n",
    "    if n == 1:\n",
    "        print('Its not a prime number')\n",
    "    elif n>1:\n",
    "        i = 2\n",
    "        while i<n:\n",
    "            if n%i == 0:\n",
    "                factors+=1\n",
    "            i+=1\n",
    "        if factors==0:\n",
    "            print('Prime')\n",
    "        else:\n",
    "            print('Not prime')"
   ]
  },
  {
   "cell_type": "code",
   "execution_count": 49,
   "id": "fb888028",
   "metadata": {},
   "outputs": [
    {
     "name": "stdout",
     "output_type": "stream",
     "text": [
      "Prime\n"
     ]
    }
   ],
   "source": [
    "prime_check(79)"
   ]
  },
  {
   "cell_type": "code",
   "execution_count": 50,
   "id": "ea19f94f",
   "metadata": {},
   "outputs": [],
   "source": [
    "def prime_check_fl(n):\n",
    "    factors = 0\n",
    "    if n == 1:\n",
    "        print('Its not a prime number')\n",
    "    elif n>1:\n",
    "        for num in range(2,n):\n",
    "            if n%num == 0:\n",
    "                factors+=1\n",
    "        if factors==0:\n",
    "            print('Prime')\n",
    "        else:\n",
    "            print('Not prime')"
   ]
  },
  {
   "cell_type": "code",
   "execution_count": 51,
   "id": "cc371819",
   "metadata": {},
   "outputs": [
    {
     "name": "stdout",
     "output_type": "stream",
     "text": [
      "Prime\n"
     ]
    }
   ],
   "source": [
    "prime_check_fl(13)"
   ]
  },
  {
   "cell_type": "code",
   "execution_count": 52,
   "id": "091bf3fe",
   "metadata": {},
   "outputs": [],
   "source": [
    "#  Write a Python program to print the even numbers from a given list. \n",
    "\n",
    "def list_evn(lists):\n",
    "    n_l = []\n",
    "    i = 0\n",
    "    while i<len(lists):\n",
    "        if lists[i]%2==0:\n",
    "            n_l.append(lists[i])\n",
    "        i+=1\n",
    "    print(n_l)"
   ]
  },
  {
   "cell_type": "code",
   "execution_count": 53,
   "id": "6814f917",
   "metadata": {},
   "outputs": [
    {
     "name": "stdout",
     "output_type": "stream",
     "text": [
      "[2, 4, 6, 8]\n"
     ]
    }
   ],
   "source": [
    "l1 = [1, 2, 3, 4, 5, 6, 7, 8, 9] \n",
    "list_evn(l1)"
   ]
  },
  {
   "cell_type": "code",
   "execution_count": 54,
   "id": "a38724a9",
   "metadata": {},
   "outputs": [],
   "source": [
    "def list_evn_fl(lists):\n",
    "    n_l = []\n",
    "    for i in lists:\n",
    "        if i%2==0:\n",
    "            n_l.append(i)\n",
    "    print(n_l)"
   ]
  },
  {
   "cell_type": "code",
   "execution_count": 55,
   "id": "cf97f547",
   "metadata": {},
   "outputs": [
    {
     "name": "stdout",
     "output_type": "stream",
     "text": [
      "[2, 4, 6, 8]\n"
     ]
    }
   ],
   "source": [
    "list_evn_fl(l1)"
   ]
  },
  {
   "cell_type": "code",
   "execution_count": 56,
   "id": "aaf9ad9d",
   "metadata": {},
   "outputs": [],
   "source": [
    "# Write a Python function that checks whether a passed string is a palindrome or not\n",
    "\n",
    "def paldrm(n):\n",
    "    rev_str = ''\n",
    "    for i in n:\n",
    "        rev_str= i+rev_str\n",
    "    if n==rev_str:\n",
    "        print('palindrome')\n",
    "    else:\n",
    "        print('not palindrome')"
   ]
  },
  {
   "cell_type": "code",
   "execution_count": 57,
   "id": "fc9bb2fa",
   "metadata": {},
   "outputs": [
    {
     "name": "stdout",
     "output_type": "stream",
     "text": [
      "palindrome\n"
     ]
    }
   ],
   "source": [
    "paldrm('madam')"
   ]
  },
  {
   "cell_type": "code",
   "execution_count": 58,
   "id": "da3c8fc6",
   "metadata": {},
   "outputs": [],
   "source": [
    "def paldrm_wl(n):\n",
    "    rev_str = ''\n",
    "    i = 0\n",
    "    while i<len(n):\n",
    "        rev_str = n[i] +rev_str\n",
    "        i+=1\n",
    "    if n==rev_str:\n",
    "        print('palindrome')\n",
    "    else:\n",
    "        print('not palindrome')"
   ]
  },
  {
   "cell_type": "code",
   "execution_count": 59,
   "id": "638d7e2f",
   "metadata": {},
   "outputs": [
    {
     "name": "stdout",
     "output_type": "stream",
     "text": [
      "palindrome\n"
     ]
    }
   ],
   "source": [
    "paldrm_wl('madam')"
   ]
  },
  {
   "cell_type": "code",
   "execution_count": 60,
   "id": "ad4fc71c",
   "metadata": {},
   "outputs": [],
   "source": [
    "# Write a Python function to create and print a list where the values are the squares of numbers between 1 and 30 (both included).\n",
    "def sq_num():\n",
    "    sq = []\n",
    "    for i in range(1,31):\n",
    "        sq.append(i**2)\n",
    "    print(sq)\n",
    "        "
   ]
  },
  {
   "cell_type": "code",
   "execution_count": 61,
   "id": "f2a63c77",
   "metadata": {},
   "outputs": [
    {
     "name": "stdout",
     "output_type": "stream",
     "text": [
      "[1, 4, 9, 16, 25, 36, 49, 64, 81, 100, 121, 144, 169, 196, 225, 256, 289, 324, 361, 400, 441, 484, 529, 576, 625, 676, 729, 784, 841, 900]\n"
     ]
    }
   ],
   "source": [
    "sq_num()"
   ]
  },
  {
   "cell_type": "code",
   "execution_count": 62,
   "id": "bafe866c",
   "metadata": {},
   "outputs": [],
   "source": [
    "# Given a sentence, return a sentence with the words reversed\n",
    "def rev_sent(n):\n",
    "    l_sent = n.split(' ')\n",
    "    st_rev = ''\n",
    "    for i in l_sent:\n",
    "        st_rev = i +' '+st_rev\n",
    "    print(st_rev)"
   ]
  },
  {
   "cell_type": "code",
   "execution_count": 63,
   "id": "5a5180fd",
   "metadata": {},
   "outputs": [
    {
     "name": "stdout",
     "output_type": "stream",
     "text": [
      "Fox Brown quick The \n"
     ]
    }
   ],
   "source": [
    "rev_sent('The quick Brown Fox')"
   ]
  },
  {
   "cell_type": "code",
   "execution_count": null,
   "id": "85c51a07",
   "metadata": {},
   "outputs": [],
   "source": []
  }
 ],
 "metadata": {
  "kernelspec": {
   "display_name": "Python 3 (ipykernel)",
   "language": "python",
   "name": "python3"
  },
  "language_info": {
   "codemirror_mode": {
    "name": "ipython",
    "version": 3
   },
   "file_extension": ".py",
   "mimetype": "text/x-python",
   "name": "python",
   "nbconvert_exporter": "python",
   "pygments_lexer": "ipython3",
   "version": "3.9.12"
  }
 },
 "nbformat": 4,
 "nbformat_minor": 5
}
